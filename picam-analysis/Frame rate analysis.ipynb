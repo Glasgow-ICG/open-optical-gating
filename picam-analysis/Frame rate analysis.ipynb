{
 "cells": [
  {
   "cell_type": "markdown",
   "metadata": {},
   "source": [
    "# Frame rate analysis "
   ]
  },
  {
   "cell_type": "markdown",
   "metadata": {},
   "source": [
    "A simple notebook to analyse the frame rate data of the raspberry pi camera."
   ]
  },
  {
   "cell_type": "code",
   "execution_count": 1,
   "metadata": {},
   "outputs": [],
   "source": [
    "# Imports relevent librareis\n",
    "import numpy as np\n",
    "import pandas as pd"
   ]
  },
  {
   "cell_type": "code",
   "execution_count": 2,
   "metadata": {},
   "outputs": [],
   "source": [
    "# Imports the data\n",
    "frame_rate_data = np.array(pd.read_csv('data/time-stamp-10-50-100.csv'))"
   ]
  },
  {
   "cell_type": "markdown",
   "metadata": {},
   "source": [
    "With the data imported (a series of time stamps) it is necessary to convert find the difference between adjacent time stamps and plot the results. \n",
    "\n",
    "The data starts at a frame rates start at 10fps and increase (by 1) to 50fps, with each frame rate containing approximately 100 entries. The number of entries is actually a bit less than 100 and is padded out with zeros to 100.\n",
    "\n",
    "Each row represents the entries for a single frame rate."
   ]
  },
  {
   "cell_type": "code",
   "execution_count": 14,
   "metadata": {},
   "outputs": [],
   "source": [
    "# Calculates the difference between entries\n",
    "diff_frame_rate_data = np.diff(frame_rate_data)"
   ]
  },
  {
   "cell_type": "markdown",
   "metadata": {},
   "source": [
    "By simply cycling through the data it seems that the frame rate is very consistent. If needs be the results can be plotted with the chosen frame rate to highlight this."
   ]
  },
  {
   "cell_type": "code",
   "execution_count": null,
   "metadata": {},
   "outputs": [],
   "source": []
  }
 ],
 "metadata": {
  "kernelspec": {
   "display_name": "Python 3",
   "language": "python",
   "name": "python3"
  },
  "language_info": {
   "codemirror_mode": {
    "name": "ipython",
    "version": 3
   },
   "file_extension": ".py",
   "mimetype": "text/x-python",
   "name": "python",
   "nbconvert_exporter": "python",
   "pygments_lexer": "ipython3",
   "version": "3.7.1"
  }
 },
 "nbformat": 4,
 "nbformat_minor": 2
}
