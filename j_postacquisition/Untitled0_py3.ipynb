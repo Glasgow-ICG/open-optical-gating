{
 "cells": [
  {
   "cell_type": "code",
   "execution_count": 1,
   "metadata": {
    "collapsed": false
   },
   "outputs": [],
   "source": [
    "%matplotlib inline\n",
    "from shifts import *\n",
    "from periods import *\n",
    "from image_loading import *\n",
    "from drift_correction import *\n",
    "from shifts_global_solution import *\n",
    "from tqdm import *\n",
    "import importlib\n",
    "import matplotlib.image as img\n",
    "import plist_wrapper as jPlist"
   ]
  },
  {
   "cell_type": "code",
   "execution_count": 2,
   "metadata": {
    "collapsed": false
   },
   "outputs": [
    {
     "name": "stderr",
     "output_type": "stream",
     "text": [
      "loading images: 100%|██████████| 800/800 [00:17<00:00, 26.87it/s]"
     ]
    },
    {
     "name": "stdout",
     "output_type": "stream",
     "text": [
      "average period 30.7\n"
     ]
    },
    {
     "name": "stderr",
     "output_type": "stream",
     "text": [
      "\n"
     ]
    }
   ],
   "source": [
    "kNumSamplesPerPeriod = 60\n",
    "path = '/Users/jonny/Movies/thursday_part_2/2016-06-09 16.37.35 vid slow heart belly scan/Brightfield - Prosilica'\n",
    "format = '%s/%06d.tif'\n",
    "\n",
    "# Load the images from disk (and determine the average period)\n",
    "# Although the brightfield dataset goes on a few thousand frames after this,\n",
    "# the focus correction went funny at the end of the run, and there is a massive \n",
    "# shift in the brightfield images. I don't want to include them, in case they \n",
    "# cause problems with the sync\n",
    "firstImage = 54863\n",
    "downsampling = 2\n",
    "if False:\n",
    "    numImagesToProcess = 10673\n",
    "    (images, averagePeriod) = LoadImages(path, format, firstImage, numImagesToProcess, downsampleFactor=downsampling)\n",
    "    #(im2, dummy) = LoadImages(path, format, 1, 13250, downsampleFactor=downsampling, frameIndexOffset=65535)\n",
    "    #images = np.append(images, im2)\n",
    "elif False:\n",
    "    # Load two non-contiguous blocks of frames\n",
    "    numImagesToProcess = 2000\n",
    "    (images, averagePeriod) = LoadImages(path, format, firstImage, numImagesToProcess, downsampleFactor=downsampling)\n",
    "    print(\"WARNING: temporary loading of another block of frames\")\n",
    "    (im2, dummy) = LoadImages(path, format, 1, 2000, downsampleFactor=downsampling, frameIndexOffset=images[-1].frameIndex)\n",
    "    images = np.append(images, im2)\n",
    "else:\n",
    "    # Load just a small number of frames\n",
    "    (images, averagePeriod) = LoadImages(path, format, firstImage, 800, downsampleFactor=downsampling)\n"
   ]
  },
  {
   "cell_type": "code",
   "execution_count": 5,
   "metadata": {
    "collapsed": false
   },
   "outputs": [
    {
     "name": "stderr",
     "output_type": "stream",
     "text": [
      "/Users/jonny/anaconda/lib/python3.5/site-packages/ipykernel/__main__.py:23: DeprecationWarning: using a non-integer number instead of an integer will result in an error in the future\n"
     ]
    },
    {
     "data": {
      "image/png": "[encoded data removed]",
      "text/plain": [
       "<matplotlib.figure.Figure at 0x10f0e09e8>"
      ]
     },
     "metadata": {},
     "output_type": "display_data"
    }
   ],
   "source": [
    "def ScorePeriodsForImageSequence2(images, k, periodRange, context='', delta=0.1):\n",
    "    scores = []\n",
    "    (minPeriod, maxPeriod) = periodRange\n",
    "    periods = np.arange(minPeriod, maxPeriod, delta)\n",
    "    for period in periods:\n",
    "        scores = scores + [ScoreCandidatePeriod(images, period, k)]\n",
    "    return (periods, np.array(scores))\n",
    "\n",
    "def EstablishPeriodForImageSequence2(images, periodRange, context='', delta=0.1):\n",
    "   # It seems that k=1e3 to 1e4 is the right ballpark, in that that's when the graph starts to change noticably.\n",
    "   (periods, scores) = ScorePeriodsForImageSequence2(images, k=1000, periodRange=periodRange, context=context, delta=delta)\n",
    "   return (periods[np.argmin(scores)], scores)\n",
    "\n",
    "def SplitIntoSections2(images, averagePeriod, periodRange, delta=0.1):\n",
    "   # Split up the sequence into sections of 2T+alpha in length\n",
    "   # (discarding any remainder at the end of the sequence)\n",
    "   alpha = 10\n",
    "   sectionLength = 2 * averagePeriod + alpha\n",
    "   imageSections = []\n",
    "   sectionPeriods = []\n",
    "\n",
    "   i = 0\n",
    "   thisSection = images[i*sectionLength : min((i+1)*sectionLength, len(images))]\n",
    "   (thisPeriod, theseScores) = EstablishPeriodForImageSequence2(thisSection, periodRange, delta)\n",
    "   plt.plot(theseScores)\n",
    "\n",
    "SplitIntoSections2(images, averagePeriod, periodRange=(23, 37), delta=0.02)"
   ]
  },
  {
   "cell_type": "code",
   "execution_count": 6,
   "metadata": {
    "collapsed": false
   },
   "outputs": [],
   "source": [
    "def EstablishPeriodForImageSequence2(images, periodRange, context=''):\n",
    "    # It seems that k=1e3 to 1e4 is the right ballpark, in that that's when the graph starts to change noticably.\n",
    "    (periods, scores) = ScorePeriodsForImageSequence(images, k=1000, periodRange=periodRange, context=context)\n",
    "    return (periods[np.argmin(scores)], scores)\n",
    "\n",
    "def SplitIntoSections2(images, averagePeriod, periodRange):\n",
    "    # Split up the sequence into sections of 2T+alpha in length\n",
    "    # (discarding any remainder at the end of the sequence)\n",
    "    alpha = 10\n",
    "    sectionLength = 2 * averagePeriod + alpha\n",
    "    imageSections = []\n",
    "    sectionPeriods = []\n",
    "\t\n",
    "    i = 0\n",
    "    thisSection = images[i*sectionLength : min((i+1)*sectionLength, len(images))]\n",
    "    (thisPeriod, theseScores) = EstablishPeriodForImageSequence2(thisSection, periodRange)\n",
    "    plt.plot(theseScores)\n",
    "\n",
    "SplitIntoSections2(images, averagePeriod, periodRange=(23, 37))"
   ]
  },
  {
   "cell_type": "code",
   "execution_count": null,
   "metadata": {
    "collapsed": false
   },
   "outputs": [],
   "source": []
  },
  {
   "cell_type": "code",
   "execution_count": 3,
   "metadata": {
    "collapsed": false
   },
   "outputs": [
    {
     "name": "stderr",
     "output_type": "stream",
     "text": [
      "Dividing and calculating periods: 100%|██████████| 11/11 [00:13<00:00,  1.31s/it]\n",
      "resample, using 60 samples per period: 100%|██████████| 11/11 [00:00<00:00, 42.65it/s]"
     ]
    },
    {
     "name": "stdout",
     "output_type": "stream",
     "text": [
      "('section periods', [30.600000000000108, 30.600000000000108, 30.600000000000108, 30.600000000000108, 30.600000000000108, 30.600000000000108, 31.000000000000114, 31.000000000000114, 30.600000000000108, 30.600000000000108, 30.000000000000099])\n",
      "('period range', 30.000000000000099, 'to', 31.000000000000114)\n",
      "(11, 'image sections')\n",
      "(' took', 0.25925612449645996)\n"
     ]
    },
    {
     "name": "stderr",
     "output_type": "stream",
     "text": [
      "\n"
     ]
    }
   ],
   "source": [
    "# Looking at the scores when determining the period, there is a clear drop-off in score at higher values of period\n",
    "# I suspect this is because if time-sequential frames are adjacent in the phase-wrapped version\n",
    "# then the overall penalties are much lower (adjacent frames are more similar than frames one beat apart, due to RBCs etc)\n",
    "# This means that our candidate period bracket cannot be too generous.\n",
    "# For the \"slow heart belly scan\" dataset, a range of (20, 50) finds 50-ish for sequence 10, instead of 30ish.\n",
    "\n",
    "(imageSections, sectionPeriods) = SplitIntoSections(images, averagePeriod, periodRange = (23, 37))\n",
    "\n",
    "print('period range', np.min(sectionPeriods), 'to', np.max(sectionPeriods))\n",
    "print (len(imageSections), 'image sections')\n",
    "resampledImageSections = ResampleUniformly(imageSections, sectionPeriods, kNumSamplesPerPeriod)"
   ]
  },
  {
   "cell_type": "code",
   "execution_count": 13,
   "metadata": {
    "collapsed": false
   },
   "outputs": [
    {
     "name": "stderr",
     "output_type": "stream",
     "text": [
      "drift correction: 100%|██████████| 10/10 [00:05<00:00,  1.83it/s]\n"
     ]
    }
   ],
   "source": [
    "if True:\n",
    "    sequenceDrifts = CorrectForDrift(resampledImageSections, kNumSamplesPerPeriod)\n",
    "else:\n",
    "    sequenceDrifts = [(0, 0)] * len(resampledImageSections)"
   ]
  },
  {
   "cell_type": "code",
   "execution_count": 14,
   "metadata": {
    "collapsed": false
   },
   "outputs": [
    {
     "name": "stderr",
     "output_type": "stream",
     "text": [
      "calculate sequence shifts: 100%|██████████| 11/11 [00:11<00:00,  1.02s/it]"
     ]
    },
    {
     "name": "stdout",
     "output_type": "stream",
     "text": [
      "(' took', 11.179317951202393)\n"
     ]
    },
    {
     "name": "stderr",
     "output_type": "stream",
     "text": [
      "\n"
     ]
    }
   ],
   "source": [
    "shifts = GetShifts(resampledImageSections, sectionPeriods, sequenceDrifts, 10, kNumSamplesPerPeriod)"
   ]
  },
  {
   "cell_type": "code",
   "execution_count": 8,
   "metadata": {
    "collapsed": false
   },
   "outputs": [],
   "source": [
    "(globalShiftSolution, adjustedShifts, adjacentSolution, res, res2) = MakeShiftsSelfConsistent(shifts, len(resampledImageSections), kNumSamplesPerPeriod)\n",
    "\n",
    "#print (globalShiftSolution - adjacentSolution)\n",
    "\n",
    "if False:\n",
    "    for i in range(len(shifts)):\n",
    "        # Look at how each measured shift compares with the solution we obtained\n",
    "        (i, j, sh, sc) = shifts[i]\n",
    "        print(i, j, sh, sc, (globalShiftSolution[j]-globalShiftSolution[i])%kNumSamplesPerPeriod, (adjacentSolution[j]-adjacentSolution[i])%kNumSamplesPerPeriod)\n",
    "    \n",
    "# Look at how the global solution differs from the adjacent solution\n",
    "# (bearing in mind that we don't necessarily know which one to trust!)\n",
    "# Note that it would be informative to work with a long video that truly is \n",
    "# just focused on a single plane. That would help test how much the shifts\n",
    "# will naturally wander due to random variation.\n",
    "# sqrt(n) random walk would suggest wandering 17 in 300, which is about what I see, in fact.\n",
    "# Another potentially interesting thing to do would be to do a z scan and then retreat\n",
    "# back to where we started (if this can be done smoothly), and see how much the phase has drifted.\n",
    "# Yet another would be to run the same analysis but with different resampling,\n",
    "# and see how similar the results are.\n",
    "#plt.plot(((adjacentSolution - globalShiftSolution + kNumSamplesPerPeriod/2.0) % kNumSamplesPerPeriod) - kNumSamplesPerPeriod/2.0)\n",
    "\n",
    "#print (adjacentSolution[50:80] % kNumSamplesPerPeriod)\n",
    "#print (globalShiftSolution[50:80] % kNumSamplesPerPeriod)\n",
    "#print (((adjacentSolution - globalShiftSolution)[50:80]) % kNumSamplesPerPeriod)"
   ]
  },
  {
   "cell_type": "code",
   "execution_count": 9,
   "metadata": {
    "collapsed": false
   },
   "outputs": [],
   "source": [
    "from phase_assignment import *\n",
    "\n",
    "# Define phases for resampled image sections\n",
    "# These give our definitive known time/phase mapping\n",
    "(knownTimes, knownPhases) = DefinePhaseForSequence(resampledImageSections, globalShiftSolution, kNumSamplesPerPeriod, plotIt = True)\n",
    "# Fill in the phases on the original brightfield images (because why not)\n",
    "(dummy1, dummy2) = DefinePhaseForSequence(imageSections, globalShiftSolution, kNumSamplesPerPeriod)\n"
   ]
  },
  {
   "cell_type": "code",
   "execution_count": 10,
   "metadata": {
    "collapsed": false
   },
   "outputs": [
    {
     "name": "stderr",
     "output_type": "stream",
     "text": [
      "loading images: 100%|██████████| 100/100 [00:00<00:00, 457.97it/s]\n",
      "edit plists: 100%|██████████| 100/100 [00:00<00:00, 520.64it/s]"
     ]
    },
    {
     "name": "stdout",
     "output_type": "stream",
     "text": [
      "(14, '/', 100, 'failed to recover a phase')\n"
     ]
    },
    {
     "name": "stderr",
     "output_type": "stream",
     "text": [
      "\n"
     ]
    }
   ],
   "source": [
    "from annotation import *\n",
    "\n",
    "basePath = '/Users/jonny/Movies/thursday_part_2/2016-06-09 16.37.35 vid slow heart belly scan'\n",
    "AnnotateFluorChannel('%s/Red - QIClick Q35979' % basePath, knownTimes, knownPhases, earlyTruncation = 100)\n",
    "    "
   ]
  }
 ],
 "metadata": {
  "kernelspec": {
   "display_name": "Python 3",
   "language": "python",
   "name": "python3"
  },
  "language_info": {
   "codemirror_mode": {
    "name": "ipython",
    "version": 3
   },
   "file_extension": ".py",
   "mimetype": "text/x-python",
   "name": "python",
   "nbconvert_exporter": "python",
   "pygments_lexer": "ipython3",
   "version": "3.5.1"
  }
 },
 "nbformat": 4,
 "nbformat_minor": 0
}
