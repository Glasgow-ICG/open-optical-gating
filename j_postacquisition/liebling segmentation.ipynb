{
 "cells": [
  {
   "cell_type": "code",
   "execution_count": null,
   "metadata": {
    "collapsed": false
   },
   "outputs": [],
   "source": [
    "# Notebook trying out Liebling's method for separating periodic structures from background and non-periodic\n",
    "from analyze_dataset import *"
   ]
  },
  {
   "cell_type": "code",
   "execution_count": null,
   "metadata": {
    "collapsed": false
   },
   "outputs": [],
   "source": []
  },
  {
   "cell_type": "code",
   "execution_count": null,
   "metadata": {
    "collapsed": false
   },
   "outputs": [],
   "source": [
    "basePath = '/Users/jonny/Movies/Reference_brightfield_video_sequences/'\n",
    "frameRanges = [(0, 500)]\n",
    "frameRanges = None\n",
    "\n",
    "# Pasted from analyze_dataset\n",
    "imageRangeList = frameRanges\n",
    "annotationList = []\n",
    "# Defaults\n",
    "downsampling = 1\n",
    "numSamplesPerPeriod = 60\n",
    "earlyAnnotationTruncation = -1\n",
    "source = 'Brightfield - Prosilica'\n",
    "periodRange = np.arange(23, 37, 0.1)\n",
    "plotAllPeriods=False\n",
    "alpha=10\n",
    "cropRect=None\n",
    "cropFollowsZ=None\n",
    "maxOffsetToConsider=None\n",
    "applyDriftCorrection=True\n",
    "annotationTimeShifts=None\n",
    "interpolationDistanceBetweenSequences=0\n",
    "rollingAverage=False\n",
    "sourceTimestampKey='time_received'\n",
    "fluorTimestampKey='time_exposed'\n",
    "filenameFormat=None\n",
    "# Overrides\n",
    "periodRange = np.arange(35, 50, 0.1)\n",
    "numSamplesPerPeriod = 80\n",
    "source='Nov 2011 Prosilica renumbered'\n",
    "applyDriftCorrection=False\n",
    "downsampling=2\n",
    "interpolationDistanceBetweenSequences=4\n",
    "sourceTimestampKey='time_received'\n",
    "fluorTimestampKey='time_received'\n",
    "\n",
    "\n",
    "# Load brightfield images for analysis\n",
    "if (filenameFormat is None):\n",
    "    pathFormat = '%s/'+source+'/%06d.tif'\n",
    "else:\n",
    "    pathFormat = '%s/'+source+'/'+filenameFormat\n",
    "if (imageRangeList is None):\n",
    "    (images, averagePeriod) = LoadAllImages(basePath+'/'+source, downsampleFactor=downsampling, periodRange=periodRange, plotAllPeriods=plotAllPeriods, cropRect=cropRect, cropFollowsZ=cropFollowsZ, timestampKey=sourceTimestampKey)\n",
    "else:\n",
    "    assert(len(imageRangeList) > 0)\n",
    "    (firstImage, lastImage) = imageRangeList[0]\n",
    "    (images, averagePeriod) = LoadImages(basePath, pathFormat, firstImage, lastImage - firstImage + 1, downsampleFactor=downsampling, periodRange=periodRange, plotAllPeriods=plotAllPeriods, cropRect=cropRect, cropFollowsZ=cropFollowsZ, timestampKey=sourceTimestampKey)\n",
    "    for i in range(1, len(imageRangeList)):\n",
    "        (firstImage, lastImage) = imageRangeList[i]\n",
    "        lastIndex = images[-1].frameIndex\n",
    "        (im2, dummy) = LoadImages(basePath, pathFormat, firstImage, lastImage - firstImage + 1, downsampleFactor=downsampling, periodRange=periodRange, plotAllPeriods=plotAllPeriods, frameIndexStart=lastIndex+1, cropRect=cropRect, cropFollowsZ=cropFollowsZ, timestampKey=sourceTimestampKey)\n",
    "        images = np.append(images, im2)\n",
    "        del im2\n",
    "\n",
    "# Temp: apply rolling 4-point average for the images (to deal with noise on the raw compressive images)\n",
    "if (rollingAverage):\n",
    "    for i in range(len(images)-3):\n",
    "        images[i].image = (images[i].image + images[i+1].image + images[i+2].image + images[i+3].image) / 4.0\n",
    "        images[i].timestamp = (images[i].timestamp + images[i+1].timestamp + images[i+2].timestamp + images[i+3].timestamp) / 4.0\n",
    "\n",
    "\n",
    "\n",
    "# Looking at the scores when determining the period, there is a clear drop-off in score at higher values of period\n",
    "# I suspect this is because if time-sequential frames are adjacent in the phase-wrapped version\n",
    "# then the overall penalties are much lower (adjacent frames are more similar than frames one beat apart, due to RBCs etc)\n",
    "# This means that our candidate period bracket cannot be too generous.\n",
    "# For the \"slow heart belly scan\" dataset, a range of (20, 50) finds 50-ish for sequence 10, instead of 30ish.\n",
    "\n",
    "# Split into two-period chunks for phase alignment.\n",
    "# (doing two periods because Liebling's approach typically requires multiple periods in one chunk in order to be able to determine the period.\n",
    "# This could perhaps be improved using my method for determining the period in the first place.\n",
    "(imageSections, sectionPeriods) = SplitIntoSections(images, averagePeriod, periodRange=periodRange, plotAllPeriods=plotAllPeriods, alpha=alpha)\n",
    "\n",
    "# Resample each image section into exactly the same number of frames (as per Liebling's papers)\n",
    "print('period range', np.min(sectionPeriods), 'to', np.max(sectionPeriods))\n",
    "print (len(imageSections), 'image sections')\n",
    "resampledImageSections = ResampleUniformly(imageSections, sectionPeriods, numSamplesPerPeriod)\n",
    "\n",
    "# Attempt to free up memory by freeing the raw images - we don't need them any more\n",
    "del images\n",
    "del imageSections\n",
    "\n",
    "# Optional: crude attempt to correct for xy drift in the brightfield images\n",
    "# (which will occur due to focus correction as well as due to actual fish motion)\n",
    "if applyDriftCorrection:\n",
    "    driftInset = 10     # TODO: Effectively this is the maximum drift we can handle. Needs to be coded properly!\n",
    "    sequenceDrifts = CorrectForDrift(resampledImageSections, numSamplesPerPeriod, inset=driftInset)\n",
    "else:\n",
    "    driftInset = 0\n",
    "    sequenceDrifts = [(0, 0)] * len(resampledImageSections)\n",
    "\n",
    "# Determine the relative shifts between pairs of image sections\n",
    "shifts = GetShifts(resampledImageSections, sectionPeriods, sequenceDrifts, driftInset, numSamplesPerPeriod, maxOffsetToConsider)\n",
    "print(shifts)\n",
    "# Turn these relative shifts into one self-consistent global set of absolute shifts\n",
    "(globalShiftSolution, adjustedShifts, adjacentSolution, res, res2) = MakeShiftsSelfConsistent(shifts, len(resampledImageSections), numSamplesPerPeriod)\n",
    "\n",
    "#print (globalShiftSolution - adjacentSolution)\n",
    "\n",
    "if False:\n",
    "    for i in range(len(shifts)):\n",
    "        # Look at how each measured shift compares with the solution we obtained\n",
    "        (i, j, sh, sc) = shifts[i]\n",
    "        print(i, j, sh, sc, (globalShiftSolution[j]-globalShiftSolution[i])%numSamplesPerPeriod, (adjacentSolution[j]-adjacentSolution[i])%numSamplesPerPeriod)\n",
    "\n",
    "# Look at how the global solution differs from the adjacent solution\n",
    "# (bearing in mind that we don't necessarily know which one to trust!)\n",
    "# Note that it would be informative to work with a long video that truly is\n",
    "# just focused on a single plane. That would help test how much the shifts\n",
    "# will naturally wander due to random variation.\n",
    "# sqrt(n) random walk would suggest wandering 17 in 300, which is about what I see, in fact.\n",
    "# Another potentially interesting thing to do would be to do a z scan and then retreat\n",
    "# back to where we started (if this can be done smoothly), and see how much the phase has drifted.\n",
    "# Yet another would be to run the same analysis but with different resampling,\n",
    "# and see how similar the results are.\n",
    "#plt.plot(((adjacentSolution - globalShiftSolution + numSamplesPerPeriod/2.0) % numSamplesPerPeriod) - numSamplesPerPeriod/2.0)\n",
    "\n",
    "#print (adjacentSolution[50:80] % numSamplesPerPeriod)\n",
    "#print (globalShiftSolution[50:80] % numSamplesPerPeriod)\n",
    "#print (((adjacentSolution - globalShiftSolution)[50:80]) % numSamplesPerPeriod)\n",
    "\n",
    "\n",
    "# Define phases for resampled image sections\n",
    "# These give our definitive known time/phase mapping\n",
    "(knownTimes, knownPhases) = DefinePhaseForSequence(resampledImageSections, globalShiftSolution, numSamplesPerPeriod, plotIt = True, interpolationDistanceBetweenSequences=interpolationDistanceBetweenSequences)"
   ]
  },
  {
   "cell_type": "code",
   "execution_count": null,
   "metadata": {
    "collapsed": false
   },
   "outputs": [],
   "source": [
    "# Now we apply the shifts to each image sequence, so that we have a series of sequences that should be mutually synchronized\n",
    "shiftedSequences = []\n",
    "for i in range(len(resampledImageSections)):\n",
    "    seq = resampledImageSections[i]\n",
    "    shifted = np.roll(np.array(seq), int(np.round(-globalShiftSolution[i])))\n",
    "    shiftedSequences.append(shifted)\n"
   ]
  },
  {
   "cell_type": "code",
   "execution_count": null,
   "metadata": {
    "collapsed": false
   },
   "outputs": [],
   "source": [
    "# To check we have synchronized correctly, output a set of folders with the images from the first few sequences\n",
    "if False:\n",
    "    for i in range(4):\n",
    "        SaveImagesToFolder(shiftedSequences[i], '/Users/jonny/Movies/temp/%d'%i)\n",
    "\n",
    "# Visual examination suggests it does an OK but not perfect job.\n",
    "# This may be due to the use of two heartbeats, or due due to genuine variation in how a single beat looks.\n",
    "# I haven't investigated any further for now.\n",
    "# (Of course, Liebling's nonuniform registration deals with some of these issues)\n"
   ]
  },
  {
   "cell_type": "code",
   "execution_count": null,
   "metadata": {
    "collapsed": false
   },
   "outputs": [],
   "source": [
    "# Reformat the data into a single huge matrix (risk of filling memory...?)\n",
    "bigMatrix = np.zeros((len(shiftedSequences), len(shiftedSequences[0]), shiftedSequences[0][0].image.shape[0], shiftedSequences[0][0].image.shape[1]))\n",
    "for i in range(len(shiftedSequences)):\n",
    "    for j in range(len(shiftedSequences[i])):\n",
    "        bigMatrix[i,j,:,:] = shiftedSequences[i][j].image"
   ]
  },
  {
   "cell_type": "code",
   "execution_count": null,
   "metadata": {
    "collapsed": false
   },
   "outputs": [],
   "source": [
    "# Now try categorizing. \n",
    "# First identify the median, separately for each pixel and each phase\n",
    "medians = np.zeros((bigMatrix.shape[1], bigMatrix.shape[2], bigMatrix.shape[3]))\n",
    "for i in range(bigMatrix.shape[1]): # Iterate over phase\n",
    "    # For each phase, calculate the median for each pixel\n",
    "    # (which is presumably some sort of measure of typical appearance).\n",
    "    # (I don't know why they chose median in particular. Seems like an odd choice to me)\n",
    "    medians[i] = np.median(bigMatrix[:,i,:,:], axis=0)"
   ]
  },
  {
   "cell_type": "code",
   "execution_count": null,
   "metadata": {
    "collapsed": false
   },
   "outputs": [],
   "source": [
    "# Liebling defines stationary structures as the mean of this value over all phases\n",
    "stationaryStructures = np.mean(medians, axis=0)\n",
    "#stationaryStructures[22,99:] = 255\n",
    "plt.imsave('/Users/jonny/Movies/temp/stationary/0.tif', stationaryStructures, cmap='gray', vmin=0, vmax=255)\n",
    "% matplotlib inline\n",
    "plt.plot(medians[:,22,99])\n",
    "plt.show()\n",
    "print(np.mean(medians[:,22,99]))\n",
    "print(stationaryStructures[22,99])"
   ]
  },
  {
   "cell_type": "code",
   "execution_count": null,
   "metadata": {
    "collapsed": false
   },
   "outputs": [],
   "source": [
    "# Periodic structures are then defined as medians minum stationary background\n",
    "periodicStructures = np.zeros(medians.shape)\n",
    "for i in range(bigMatrix.shape[1]): # Iterate over phase\n",
    "    periodicStructures[i] = medians[i] - stationaryStructures\n",
    "    plt.imsave('/Users/jonny/Movies/liebling_separation/medians/%d.tif'%i, medians[i], cmap='gray', vmin=0, vmax=255)\n",
    "    plt.imsave('/Users/jonny/Movies/liebling_separation/periodic/%d.tif'%i, periodicStructures[i], cmap='gray', vmin=0, vmax=255)\n",
    "    plt.imsave('/Users/jonny/Movies/liebling_separation/sum/%d.tif'%i, periodicStructures[i]+stationaryStructures, cmap='gray', vmin=0, vmax=255)"
   ]
  },
  {
   "cell_type": "code",
   "execution_count": null,
   "metadata": {
    "collapsed": false
   },
   "outputs": [],
   "source": [
    "# Alternative: process images by binning of realtime phase stamps\n",
    "\n",
    "if False:\n",
    "    # Actual overnight dataset (with focus correction of course)\n",
    "    realtimePath = '/Users/jonny/Movies/Reference_brightfield_video_sequences/9 feb stack 1/Emulated camera'\n",
    "    (realtimeImages, dummy) = LoadAllImages(realtimePath, downsampleFactor=1, periodRange=None, plotAllPeriods=False)\n",
    "elif False:\n",
    "    # A PIV dataset where I was dwelling on a single plane\n",
    "    # (which will make things more consistent in terms of how the heart looks in brightfield)\n",
    "    realtimePath = '/Users/jonny/Movies/Reference_brightfield_video_sequences/30 jun 16.03 single plane/Emulated camera'\n",
    "    (realtimeImages, dummy) = LoadImages(realtimePath, '%s/%06d.tif', 0, 20000, downsampleFactor=downsampling, periodRange=periodRange, plotAllPeriods=plotAllPeriods, cropRect=cropRect, cropFollowsZ=cropFollowsZ, timestampKey=sourceTimestampKey)\n",
    "elif True:\n",
    "    # A possible Casper dataset\n",
    "    realtimePath = '/Users/jonny/Movies/Reference_brightfield_video_sequences/11 jul 2013 maybe casper/Emulated camera'\n",
    "    (realtimeImages, dummy) = LoadAllImages(realtimePath, downsampleFactor=1, periodRange=None, plotAllPeriods=False)"
   ]
  },
  {
   "cell_type": "code",
   "execution_count": null,
   "metadata": {
    "collapsed": false
   },
   "outputs": [],
   "source": [
    "# Reformat the data into a single huge matrix (risk of filling memory...?),\n",
    "# correct for drift while we're at it,\n",
    "# and identify the (realtime) phases for each image\n",
    "bigMatrix2 = np.zeros((len(realtimeImages), realtimeImages[0].image.shape[0], realtimeImages[0].image.shape[1]))\n",
    "phaseArray = np.zeros((len(realtimeImages)))\n",
    "drifts = np.zeros((len(realtimeImages), 2))\n",
    "for i in range(len(realtimeImages)):\n",
    "    driftOffset = realtimeImages[i].plist['drift_offset']\n",
    "    # Tedious parsing of drift string\n",
    "    temp = (driftOffset.split(\"{\")[1]).split(\"}\")[0]\n",
    "    coords = temp.split(\",\")\n",
    "    driftX = int(coords[0])\n",
    "    driftY = int(coords[1])\n",
    "    drifts[i,0] = driftX\n",
    "    drifts[i,1] = driftY\n",
    "    # IMPORTANT: the reason I have different signs on my drift corrections for each axis\n",
    "    # is because these images have been through EmulatedCamera with horizontal flip enabled!\n",
    "    # So the sign on the x axis needs to be reversed in order to make sense with the images\n",
    "    # that were actually saved\n",
    "    if False:\n",
    "        # No drift correction\n",
    "        bigMatrix2[i,:,:] = realtimeImages[i].image\n",
    "    elif False:\n",
    "        # Attempted drift correction\n",
    "        bigMatrix2[i,:,:] = np.roll(np.roll(realtimeImages[i].image, driftX, axis=1), -driftY, axis=0)\n",
    "    else:\n",
    "        # Shift by half the drift quantity.\n",
    "        # Even though this has no basis in reality, it seems to actually give fairly ok results for\n",
    "        # the PIV dataset, for some reason!\n",
    "        bigMatrix2[i,:,:] = np.roll(np.roll(realtimeImages[i].image, int(driftX/2), axis=1), -int(driftY/2), axis=0)\n",
    "\n",
    "    refPos = realtimeImages[i].plist['sync_info']['ref_pos_without_padding']\n",
    "    refPeriod = realtimeImages[i].plist['sync_info']['reference_period']\n",
    "    if False:#((refPos > 10) and (refPos < 10.2)):\n",
    "        plt.imsave('/Users/jonny/Movies/temp/temp/rolled_%d.tif'%i, bigMatrix2[i], cmap='gray', vmin=0, vmax=255)\n",
    "    if (refPeriod > 0):\n",
    "        phaseArray[i] = refPos / refPeriod\n",
    "    else:\n",
    "        phaseArray[i] = -1    \n",
    "        \n",
    "plt.plot(drifts[:,0])\n",
    "plt.plot(drifts[:,1])\n",
    "plt.show()"
   ]
  },
  {
   "cell_type": "code",
   "execution_count": null,
   "metadata": {
    "collapsed": false
   },
   "outputs": [],
   "source": [
    "# Divide the phases into a series of bins, and calculate medians for each one\n",
    "numPhaseBins = 40\n",
    "rtMedians = np.zeros((numPhaseBins, realtimeImages[0].image.shape[0], realtimeImages[0].image.shape[1]))\n",
    "for i in range(numPhaseBins):\n",
    "    minPhase = i / numPhaseBins\n",
    "    maxPhase = (i+1) / numPhaseBins\n",
    "    # Identify frames belonging to this phase bin\n",
    "    # Note that the > condition skips frames with a phase of 0\n",
    "    matches = np.where((phaseArray > minPhase) & (phaseArray <= maxPhase))\n",
    "    # Calculate the median for each pixel, over these phase bins\n",
    "    if False:\n",
    "        # I am not totally confident that this is correct\n",
    "        # due to the way I use matches as an index into bigMatrix2\n",
    "        # I am alarmed by the fact that matrixForThisPhase comes out as a 4D matrix!\n",
    "        matrixForThisPhase = bigMatrix2[matches, :, :]\n",
    "    else:\n",
    "        matrixForThisPhase = bigMatrix2[matches, :, :]\n",
    "        \n",
    "    rtMedians[i] = np.median(matrixForThisPhase[0,:,:,:], axis=0)\n",
    "    #print(i, matrixForThisPhase.shape, rtMedians.shape)\n",
    "\n",
    "    plt.imsave('/Users/jonny/Movies/temp/mediansRT/%d.tif'%i, rtMedians[i], cmap='gray', vmin=0, vmax=255)"
   ]
  },
  {
   "cell_type": "code",
   "execution_count": null,
   "metadata": {
    "collapsed": true
   },
   "outputs": [],
   "source": [
    "# Liebling defines stationary structures as the mean of this value over all phases\n",
    "rtStationaryStructures = np.mean(rtMedians, axis=0)\n",
    "#stationaryStructures[22,99:] = 255\n",
    "plt.imsave('/Users/jonny/Movies/temp/stationaryRT/0.tif', rtStationaryStructures, cmap='gray', vmin=0, vmax=255)\n",
    "\n",
    "# Periodic structures are then defined as medians minum stationary background\n",
    "rtPeriodicStructures = np.zeros(rtMedians.shape)\n",
    "for i in range(numPhaseBins): # Iterate over phase\n",
    "    rtPeriodicStructures[i] = rtMedians[i] - rtStationaryStructures + 128\n",
    "    plt.imsave('/Users/jonny/Movies/temp/periodicRT/%d.tif'%i, rtPeriodicStructures[i], cmap='gray', vmin=0, vmax=255)"
   ]
  },
  {
   "cell_type": "code",
   "execution_count": null,
   "metadata": {
    "collapsed": true
   },
   "outputs": [],
   "source": [
    "# ****** When I run this I simply don't get as satisfying results as Liebling.\n",
    "# I wonder if it is that I don't have a high enough magnification, and I have a large DoF.\n",
    "# My changes are actually just a few pixels,\n",
    "# and I think that perhaps that's preventing the algorithm from finding a\n",
    "# satisfactory background on which the changes can be observed?\n",
    "# It is also interesting to note that I am not having full success in eliminating the RBCs from the median images.\n",
    "# This may be the larger DoF, meaning I have more overall clutter than him.\n",
    "#\n",
    "# I think the fact that the background does look like one particular phase in the heart is probably\n",
    "# my problem here. If there was no heart visible at all, then I suspect it would all work a lot better.\n",
    "# I think it helps them a lot that they have a very uniform background around the heart,\n",
    "# (and again, their smaller DoF)\n",
    "#\n",
    "# I also haven't done their thing of not actually using all the beats, but just some of them\n",
    "# \n",
    "# Either way, immediate conclusion is that it is not trivial to apply their technique to my raw videos!\n",
    "#\n",
    "# For publication, I could consider taking casper video on an upright microscope at various timepoints,\n",
    "# and seeing if that looks better and processes better.\n",
    "#"
   ]
  },
  {
   "cell_type": "code",
   "execution_count": null,
   "metadata": {
    "collapsed": false
   },
   "outputs": [],
   "source": []
  },
  {
   "cell_type": "code",
   "execution_count": null,
   "metadata": {
    "collapsed": true
   },
   "outputs": [],
   "source": []
  }
 ],
 "metadata": {
  "anaconda-cloud": {},
  "kernelspec": {
   "display_name": "Python [Root]",
   "language": "python",
   "name": "Python [Root]"
  },
  "language_info": {
   "codemirror_mode": {
    "name": "ipython",
    "version": 2
   },
   "file_extension": ".py",
   "mimetype": "text/x-python",
   "name": "python",
   "nbconvert_exporter": "python",
   "pygments_lexer": "ipython2",
   "version": "2.7.11"
  }
 },
 "nbformat": 4,
 "nbformat_minor": 0
}
