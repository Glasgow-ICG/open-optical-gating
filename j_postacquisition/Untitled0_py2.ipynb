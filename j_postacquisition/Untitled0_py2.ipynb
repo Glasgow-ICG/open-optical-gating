{
 "metadata": {
  "name": "Untitled0"
 },
 "nbformat": 3,
 "nbformat_minor": 0,
 "worksheets": [
  {
   "cells": [
    {
     "cell_type": "code",
     "collapsed": false,
     "input": [
      "#%matplotlib inline\n",
      "from shifts import *\n",
      "from periods import *\n",
      "from image_loading import *\n",
      "from drift_correction import *\n",
      "from shifts_global_solution import *\n",
      "from tqdm import *\n",
      "import importlib\n",
      "import matplotlib.image as img\n",
      "import plist_wrapper as jPlist"
     ],
     "language": "python",
     "metadata": {},
     "outputs": [
      {
       "output_type": "stream",
       "stream": "stderr",
       "text": [
        "ERROR: Line magic function `%matplotlib` not found.\n"
       ]
      }
     ],
     "prompt_number": 7
    },
    {
     "cell_type": "code",
     "collapsed": false,
     "input": [
      "kNumSamplesPerPeriod = 60\n",
      "path = '/Users/jonny/Movies/thursday_part_2/2016-06-09 16.37.35 vid slow heart belly scan/Brightfield - Prosilica'\n",
      "format = '%s/%06d.tif'\n",
      "\n",
      "# Load the images from disk (and determine the average period)\n",
      "# Although the brightfield dataset goes on a few thousand frames after this,\n",
      "# the focus correction went funny at the end of the run, and there is a massive \n",
      "# shift in the brightfield images. I don't want to include them, in case they \n",
      "# cause problems with the sync\n",
      "firstImage = 54863\n",
      "downsampling = 2\n",
      "if False:\n",
      "    numImagesToProcess = 10673\n",
      "    (images, averagePeriod) = LoadImages(path, format, firstImage, numImagesToProcess, downsampleFactor=downsampling)\n",
      "    #(im2, dummy) = LoadImages(path, format, 1, 13250, downsampleFactor=downsampling, frameIndexOffset=65535)\n",
      "    #images = np.append(images, im2)\n",
      "elif False:\n",
      "    # Load two non-contiguous blocks of frames\n",
      "    numImagesToProcess = 2000\n",
      "    (images, averagePeriod) = LoadImages(path, format, firstImage, numImagesToProcess, downsampleFactor=downsampling)\n",
      "    print(\"WARNING: temporary loading of another block of frames\")\n",
      "    (im2, dummy) = LoadImages(path, format, 1, 2000, downsampleFactor=downsampling, frameIndexOffset=images[-1].frameIndex)\n",
      "    images = np.append(images, im2)\n",
      "else:\n",
      "    # Load just a small number of frames\n",
      "    (images, averagePeriod) = LoadImages(path, format, firstImage, 800, downsampleFactor=downsampling)\n"
     ],
     "language": "python",
     "metadata": {},
     "outputs": [
      {
       "output_type": "stream",
       "stream": "stderr",
       "text": [
        "\r",
        "loading images:   0%|          | 0/800 [00:00<?, ?it/s]"
       ]
      },
      {
       "output_type": "stream",
       "stream": "stderr",
       "text": [
        "\r",
        "loading images:   1%|          | 9/800 [00:00<00:09, 85.03it/s]"
       ]
      },
      {
       "output_type": "stream",
       "stream": "stderr",
       "text": [
        "\r",
        "loading images:   3%|\u258e         | 24/800 [00:00<00:07, 97.22it/s]"
       ]
      },
      {
       "output_type": "stream",
       "stream": "stderr",
       "text": [
        "\r",
        "loading images:   5%|\u258c         | 40/800 [00:00<00:06, 110.04it/s]"
       ]
      },
      {
       "output_type": "stream",
       "stream": "stderr",
       "text": [
        "\r",
        "loading images:   7%|\u258b         | 58/800 [00:00<00:05, 124.55it/s]"
       ]
      },
      {
       "output_type": "stream",
       "stream": "stderr",
       "text": [
        "\r",
        "loading images:   9%|\u2589         | 75/800 [00:00<00:05, 133.17it/s]"
       ]
      },
      {
       "output_type": "stream",
       "stream": "stderr",
       "text": [
        "\r",
        "loading images:  11%|\u2588\u258f        | 90/800 [00:00<00:05, 136.16it/s]"
       ]
      },
      {
       "output_type": "stream",
       "stream": "stderr",
       "text": [
        "\r",
        "loading images:  13%|\u2588\u258e        | 105/800 [00:00<00:05, 138.54it/s]"
       ]
      },
      {
       "output_type": "stream",
       "stream": "stderr",
       "text": [
        "\r",
        "loading images:  15%|\u2588\u258d        | 119/800 [00:00<00:04, 138.86it/s]"
       ]
      },
      {
       "output_type": "stream",
       "stream": "stderr",
       "text": [
        "\r",
        "loading images:  17%|\u2588\u258b        | 133/800 [00:00<00:04, 138.81it/s]"
       ]
      },
      {
       "output_type": "stream",
       "stream": "stderr",
       "text": [
        "\r",
        "loading images:  18%|\u2588\u258a        | 148/800 [00:01<00:04, 140.14it/s]"
       ]
      },
      {
       "output_type": "stream",
       "stream": "stderr",
       "text": [
        "\r",
        "loading images:  20%|\u2588\u2588        | 163/800 [00:01<00:04, 141.28it/s]"
       ]
      },
      {
       "output_type": "stream",
       "stream": "stderr",
       "text": [
        "\r",
        "loading images:  22%|\u2588\u2588\u258f       | 178/800 [00:01<00:05, 107.86it/s]"
       ]
      },
      {
       "output_type": "stream",
       "stream": "stderr",
       "text": [
        "\r",
        "loading images:  24%|\u2588\u2588\u258d       | 190/800 [00:01<00:05, 108.19it/s]"
       ]
      },
      {
       "output_type": "stream",
       "stream": "stderr",
       "text": [
        "\r",
        "loading images:  26%|\u2588\u2588\u258c       | 205/800 [00:01<00:05, 117.87it/s]"
       ]
      },
      {
       "output_type": "stream",
       "stream": "stderr",
       "text": [
        "\r",
        "loading images:  27%|\u2588\u2588\u258b       | 219/800 [00:01<00:04, 121.87it/s]"
       ]
      },
      {
       "output_type": "stream",
       "stream": "stderr",
       "text": [
        "\r",
        "loading images:  29%|\u2588\u2588\u2589       | 234/800 [00:01<00:04, 126.82it/s]"
       ]
      },
      {
       "output_type": "stream",
       "stream": "stderr",
       "text": [
        "\r",
        "loading images:  31%|\u2588\u2588\u2588       | 248/800 [00:01<00:04, 128.88it/s]"
       ]
      },
      {
       "output_type": "stream",
       "stream": "stderr",
       "text": [
        "\r",
        "loading images:  33%|\u2588\u2588\u2588\u258e      | 262/800 [00:01<00:04, 131.83it/s]"
       ]
      },
      {
       "output_type": "stream",
       "stream": "stderr",
       "text": [
        "\r",
        "loading images:  34%|\u2588\u2588\u2588\u258d      | 276/800 [00:02<00:03, 132.52it/s]"
       ]
      },
      {
       "output_type": "stream",
       "stream": "stderr",
       "text": [
        "\r",
        "loading images:  36%|\u2588\u2588\u2588\u258b      | 290/800 [00:02<00:03, 134.51it/s]"
       ]
      },
      {
       "output_type": "stream",
       "stream": "stderr",
       "text": [
        "\r",
        "loading images:  38%|\u2588\u2588\u2588\u258a      | 306/800 [00:02<00:03, 139.07it/s]"
       ]
      },
      {
       "output_type": "stream",
       "stream": "stderr",
       "text": [
        "\r",
        "loading images:  40%|\u2588\u2588\u2588\u2588      | 321/800 [00:02<00:03, 139.87it/s]"
       ]
      },
      {
       "output_type": "stream",
       "stream": "stderr",
       "text": [
        "\r",
        "loading images:  42%|\u2588\u2588\u2588\u2588\u258f     | 336/800 [00:02<00:03, 137.36it/s]"
       ]
      },
      {
       "output_type": "stream",
       "stream": "stderr",
       "text": [
        "\r",
        "loading images:  44%|\u2588\u2588\u2588\u2588\u258d     | 352/800 [00:02<00:03, 142.11it/s]"
       ]
      },
      {
       "output_type": "stream",
       "stream": "stderr",
       "text": [
        "\r",
        "loading images:  46%|\u2588\u2588\u2588\u2588\u258b     | 371/800 [00:02<00:02, 151.59it/s]"
       ]
      },
      {
       "output_type": "stream",
       "stream": "stderr",
       "text": [
        "\r",
        "loading images:  49%|\u2588\u2588\u2588\u2588\u258a     | 389/800 [00:02<00:02, 157.65it/s]"
       ]
      },
      {
       "output_type": "stream",
       "stream": "stderr",
       "text": [
        "\r",
        "loading images:  51%|\u2588\u2588\u2588\u2588\u2588     | 406/800 [00:02<00:02, 158.85it/s]"
       ]
      },
      {
       "output_type": "stream",
       "stream": "stderr",
       "text": [
        "\r",
        "loading images:  53%|\u2588\u2588\u2588\u2588\u2588\u258e    | 423/800 [00:03<00:02, 161.49it/s]"
       ]
      },
      {
       "output_type": "stream",
       "stream": "stderr",
       "text": [
        "\r",
        "loading images:  55%|\u2588\u2588\u2588\u2588\u2588\u258c    | 440/800 [00:03<00:02, 163.28it/s]"
       ]
      },
      {
       "output_type": "stream",
       "stream": "stderr",
       "text": [
        "\r",
        "loading images:  57%|\u2588\u2588\u2588\u2588\u2588\u258b    | 457/800 [00:03<00:02, 162.06it/s]"
       ]
      },
      {
       "output_type": "stream",
       "stream": "stderr",
       "text": [
        "\r",
        "loading images:  59%|\u2588\u2588\u2588\u2588\u2588\u2589    | 475/800 [00:03<00:01, 164.83it/s]"
       ]
      },
      {
       "output_type": "stream",
       "stream": "stderr",
       "text": [
        "\r",
        "loading images:  62%|\u2588\u2588\u2588\u2588\u2588\u2588\u258f   | 492/800 [00:03<00:01, 159.38it/s]"
       ]
      },
      {
       "output_type": "stream",
       "stream": "stderr",
       "text": [
        "\r",
        "loading images:  64%|\u2588\u2588\u2588\u2588\u2588\u2588\u258e   | 509/800 [00:03<00:01, 157.93it/s]"
       ]
      },
      {
       "output_type": "stream",
       "stream": "stderr",
       "text": [
        "\r",
        "loading images:  66%|\u2588\u2588\u2588\u2588\u2588\u2588\u258c   | 525/800 [00:03<00:01, 153.61it/s]"
       ]
      },
      {
       "output_type": "stream",
       "stream": "stderr",
       "text": [
        "\r",
        "loading images:  68%|\u2588\u2588\u2588\u2588\u2588\u2588\u258a   | 542/800 [00:03<00:01, 156.86it/s]"
       ]
      },
      {
       "output_type": "stream",
       "stream": "stderr",
       "text": [
        "\r",
        "loading images:  70%|\u2588\u2588\u2588\u2588\u2588\u2588\u2589   | 559/800 [00:03<00:01, 159.29it/s]"
       ]
      },
      {
       "output_type": "stream",
       "stream": "stderr",
       "text": [
        "\r",
        "loading images:  72%|\u2588\u2588\u2588\u2588\u2588\u2588\u2588\u258f  | 577/800 [00:03<00:01, 163.46it/s]"
       ]
      },
      {
       "output_type": "stream",
       "stream": "stderr",
       "text": [
        "\r",
        "loading images:  74%|\u2588\u2588\u2588\u2588\u2588\u2588\u2588\u258d  | 594/800 [00:04<00:01, 157.18it/s]"
       ]
      },
      {
       "output_type": "stream",
       "stream": "stderr",
       "text": [
        "\r",
        "loading images:  76%|\u2588\u2588\u2588\u2588\u2588\u2588\u2588\u258b  | 611/800 [00:04<00:01, 160.46it/s]"
       ]
      },
      {
       "output_type": "stream",
       "stream": "stderr",
       "text": [
        "\r",
        "loading images:  79%|\u2588\u2588\u2588\u2588\u2588\u2588\u2588\u258a  | 629/800 [00:04<00:01, 164.42it/s]"
       ]
      },
      {
       "output_type": "stream",
       "stream": "stderr",
       "text": [
        "\r",
        "loading images:  81%|\u2588\u2588\u2588\u2588\u2588\u2588\u2588\u2588  | 647/800 [00:04<00:00, 168.15it/s]"
       ]
      },
      {
       "output_type": "stream",
       "stream": "stderr",
       "text": [
        "\r",
        "loading images:  83%|\u2588\u2588\u2588\u2588\u2588\u2588\u2588\u2588\u258e | 664/800 [00:04<00:00, 163.12it/s]"
       ]
      },
      {
       "output_type": "stream",
       "stream": "stderr",
       "text": [
        "\r",
        "loading images:  85%|\u2588\u2588\u2588\u2588\u2588\u2588\u2588\u2588\u258c | 681/800 [00:04<00:00, 160.35it/s]"
       ]
      },
      {
       "output_type": "stream",
       "stream": "stderr",
       "text": [
        "\r",
        "loading images:  87%|\u2588\u2588\u2588\u2588\u2588\u2588\u2588\u2588\u258b | 698/800 [00:04<00:00, 157.83it/s]"
       ]
      },
      {
       "output_type": "stream",
       "stream": "stderr",
       "text": [
        "\r",
        "loading images:  89%|\u2588\u2588\u2588\u2588\u2588\u2588\u2588\u2588\u2589 | 714/800 [00:04<00:00, 153.48it/s]"
       ]
      },
      {
       "output_type": "stream",
       "stream": "stderr",
       "text": [
        "\r",
        "loading images:  92%|\u2588\u2588\u2588\u2588\u2588\u2588\u2588\u2588\u2588\u258f| 732/800 [00:04<00:00, 159.02it/s]"
       ]
      },
      {
       "output_type": "stream",
       "stream": "stderr",
       "text": [
        "\r",
        "loading images:  94%|\u2588\u2588\u2588\u2588\u2588\u2588\u2588\u2588\u2588\u258e| 749/800 [00:05<00:00, 161.53it/s]"
       ]
      },
      {
       "output_type": "stream",
       "stream": "stderr",
       "text": [
        "\r",
        "loading images:  96%|\u2588\u2588\u2588\u2588\u2588\u2588\u2588\u2588\u2588\u258c| 766/800 [00:05<00:00, 160.73it/s]"
       ]
      },
      {
       "output_type": "stream",
       "stream": "stderr",
       "text": [
        "\r",
        "loading images:  98%|\u2588\u2588\u2588\u2588\u2588\u2588\u2588\u2588\u2588\u258a| 783/800 [00:05<00:00, 156.99it/s]"
       ]
      },
      {
       "output_type": "stream",
       "stream": "stderr",
       "text": [
        "\r",
        "loading images: 100%|\u2588\u2588\u2588\u2588\u2588\u2588\u2588\u2588\u2588\u2589| 799/800 [00:05<00:00, 155.75it/s]"
       ]
      },
      {
       "output_type": "stream",
       "stream": "stderr",
       "text": [
        "\r",
        "loading images: 100%|\u2588\u2588\u2588\u2588\u2588\u2588\u2588\u2588\u2588\u2588| 800/800 [00:05<00:00, 148.39it/s]"
       ]
      },
      {
       "output_type": "stream",
       "stream": "stdout",
       "text": [
        "('average period', 30.700000000000152)\n"
       ]
      },
      {
       "output_type": "stream",
       "stream": "stderr",
       "text": [
        "\n"
       ]
      }
     ],
     "prompt_number": 2
    },
    {
     "cell_type": "code",
     "collapsed": false,
     "input": [
      "def EstablishPeriodForImageSequence2(images, periodRange, context=''):\n",
      "    # It seems that k=1e3 to 1e4 is the right ballpark, in that that's when the graph starts to change noticably.\n",
      "    (periods, scores) = ScorePeriodsForImageSequence(images, k=1000, periodRange=periodRange, context=context)\n",
      "    return (periods[np.argmin(scores)], scores)\n",
      "\n",
      "def SplitIntoSections2(images, averagePeriod, periodRange):\n",
      "    # Split up the sequence into sections of 2T+alpha in length\n",
      "    # (discarding any remainder at the end of the sequence)\n",
      "    alpha = 10\n",
      "    sectionLength = 2 * averagePeriod + alpha\n",
      "    imageSections = []\n",
      "    sectionPeriods = []\n",
      "\t\n",
      "    i = 0\n",
      "    thisSection = images[i*sectionLength : min((i+1)*sectionLength, len(images))]\n",
      "    (thisPeriod, theseScores) = EstablishPeriodForImageSequence2(thisSection, periodRange)\n",
      "    plt.plot(theseScores)\n",
      "\n",
      "SplitIntoSections2(images, averagePeriod, periodRange=(23, 37))"
     ],
     "language": "python",
     "metadata": {},
     "outputs": [],
     "prompt_number": 6
    },
    {
     "cell_type": "code",
     "collapsed": false,
     "input": [],
     "language": "python",
     "metadata": {},
     "outputs": []
    },
    {
     "cell_type": "code",
     "collapsed": false,
     "input": [
      "# Looking at the scores when determining the period, there is a clear drop-off in score at higher values of period\n",
      "# I suspect this is because if time-sequential frames are adjacent in the phase-wrapped version\n",
      "# then the overall penalties are much lower (adjacent frames are more similar than frames one beat apart, due to RBCs etc)\n",
      "# This means that our candidate period bracket cannot be too generous.\n",
      "# For the \"slow heart belly scan\" dataset, a range of (20, 50) finds 50-ish for sequence 10, instead of 30ish.\n",
      "\n",
      "(imageSections, sectionPeriods) = SplitIntoSections(images, averagePeriod, periodRange = (23, 37))\n",
      "\n",
      "print('period range', np.min(sectionPeriods), 'to', np.max(sectionPeriods))\n",
      "print (len(imageSections), 'image sections')\n",
      "resampledImageSections = ResampleUniformly(imageSections, sectionPeriods, kNumSamplesPerPeriod)"
     ],
     "language": "python",
     "metadata": {},
     "outputs": [
      {
       "output_type": "stream",
       "stream": "stderr",
       "text": [
        "\r",
        "Dividing and calculating periods:   0%|          | 0/11 [00:00<?, ?it/s]"
       ]
      },
      {
       "output_type": "stream",
       "stream": "stderr",
       "text": [
        "\r",
        "Dividing and calculating periods:   9%|\u2589         | 1/11 [00:01<00:11,  1.15s/it]"
       ]
      },
      {
       "output_type": "stream",
       "stream": "stderr",
       "text": [
        "\r",
        "Dividing and calculating periods:  18%|\u2588\u258a        | 2/11 [00:02<00:10,  1.15s/it]"
       ]
      },
      {
       "output_type": "stream",
       "stream": "stderr",
       "text": [
        "\r",
        "Dividing and calculating periods:  27%|\u2588\u2588\u258b       | 3/11 [00:03<00:09,  1.15s/it]"
       ]
      },
      {
       "output_type": "stream",
       "stream": "stderr",
       "text": [
        "\r",
        "Dividing and calculating periods:  36%|\u2588\u2588\u2588\u258b      | 4/11 [00:04<00:07,  1.14s/it]"
       ]
      },
      {
       "output_type": "stream",
       "stream": "stderr",
       "text": [
        "\r",
        "Dividing and calculating periods:  45%|\u2588\u2588\u2588\u2588\u258c     | 5/11 [00:05<00:06,  1.14s/it]"
       ]
      },
      {
       "output_type": "stream",
       "stream": "stderr",
       "text": [
        "\r",
        "Dividing and calculating periods:  55%|\u2588\u2588\u2588\u2588\u2588\u258d    | 6/11 [00:06<00:05,  1.14s/it]"
       ]
      },
      {
       "output_type": "stream",
       "stream": "stderr",
       "text": [
        "\r",
        "Dividing and calculating periods:  64%|\u2588\u2588\u2588\u2588\u2588\u2588\u258e   | 7/11 [00:08<00:04,  1.15s/it]"
       ]
      },
      {
       "output_type": "stream",
       "stream": "stderr",
       "text": [
        "\r",
        "Dividing and calculating periods:  73%|\u2588\u2588\u2588\u2588\u2588\u2588\u2588\u258e  | 8/11 [00:09<00:03,  1.18s/it]"
       ]
      },
      {
       "output_type": "stream",
       "stream": "stderr",
       "text": [
        "\r",
        "Dividing and calculating periods:  82%|\u2588\u2588\u2588\u2588\u2588\u2588\u2588\u2588\u258f | 9/11 [00:10<00:02,  1.23s/it]"
       ]
      },
      {
       "output_type": "stream",
       "stream": "stderr",
       "text": [
        "\r",
        "Dividing and calculating periods:  91%|\u2588\u2588\u2588\u2588\u2588\u2588\u2588\u2588\u2588 | 10/11 [00:12<00:01,  1.31s/it]"
       ]
      },
      {
       "output_type": "stream",
       "stream": "stderr",
       "text": [
        "\r",
        "Dividing and calculating periods: 100%|\u2588\u2588\u2588\u2588\u2588\u2588\u2588\u2588\u2588\u2588| 11/11 [00:13<00:00,  1.31s/it]"
       ]
      },
      {
       "output_type": "stream",
       "stream": "stderr",
       "text": [
        "\n",
        "\r",
        "resample, using 60 samples per period:   0%|          | 0/11 [00:00<?, ?it/s]"
       ]
      },
      {
       "output_type": "stream",
       "stream": "stderr",
       "text": [
        "\r",
        "resample, using 60 samples per period:  45%|\u2588\u2588\u2588\u2588\u258c     | 5/11 [00:00<00:00, 44.51it/s]"
       ]
      },
      {
       "output_type": "stream",
       "stream": "stderr",
       "text": [
        "\r",
        "resample, using 60 samples per period:  82%|\u2588\u2588\u2588\u2588\u2588\u2588\u2588\u2588\u258f | 9/11 [00:00<00:00, 43.03it/s]"
       ]
      },
      {
       "output_type": "stream",
       "stream": "stderr",
       "text": [
        "\r",
        "resample, using 60 samples per period: 100%|\u2588\u2588\u2588\u2588\u2588\u2588\u2588\u2588\u2588\u2588| 11/11 [00:00<00:00, 42.65it/s]"
       ]
      },
      {
       "output_type": "stream",
       "stream": "stdout",
       "text": [
        "('section periods', [30.600000000000108, 30.600000000000108, 30.600000000000108, 30.600000000000108, 30.600000000000108, 30.600000000000108, 31.000000000000114, 31.000000000000114, 30.600000000000108, 30.600000000000108, 30.000000000000099])\n",
        "('period range', 30.000000000000099, 'to', 31.000000000000114)\n",
        "(11, 'image sections')\n",
        "(' took', 0.25925612449645996)"
       ]
      },
      {
       "output_type": "stream",
       "stream": "stdout",
       "text": [
        "\n"
       ]
      },
      {
       "output_type": "stream",
       "stream": "stderr",
       "text": [
        "\n"
       ]
      }
     ],
     "prompt_number": 3
    },
    {
     "cell_type": "code",
     "collapsed": false,
     "input": [
      "if True:\n",
      "    sequenceDrifts = CorrectForDrift(resampledImageSections, kNumSamplesPerPeriod)\n",
      "else:\n",
      "    sequenceDrifts = [(0, 0)] * len(resampledImageSections)"
     ],
     "language": "python",
     "metadata": {},
     "outputs": [
      {
       "output_type": "stream",
       "stream": "stderr",
       "text": [
        "\r",
        "drift correction:   0%|          | 0/10 [00:00<?, ?it/s]"
       ]
      },
      {
       "output_type": "stream",
       "stream": "stderr",
       "text": [
        "\r",
        "drift correction:  10%|\u2588         | 1/10 [00:00<00:05,  1.74it/s]"
       ]
      },
      {
       "output_type": "stream",
       "stream": "stderr",
       "text": [
        "\r",
        "drift correction:  20%|\u2588\u2588        | 2/10 [00:01<00:04,  1.77it/s]"
       ]
      },
      {
       "output_type": "stream",
       "stream": "stderr",
       "text": [
        "\r",
        "drift correction:  30%|\u2588\u2588\u2588       | 3/10 [00:01<00:03,  1.79it/s]"
       ]
      },
      {
       "output_type": "stream",
       "stream": "stderr",
       "text": [
        "\r",
        "drift correction:  40%|\u2588\u2588\u2588\u2588      | 4/10 [00:02<00:03,  1.79it/s]"
       ]
      },
      {
       "output_type": "stream",
       "stream": "stderr",
       "text": [
        "\r",
        "drift correction:  50%|\u2588\u2588\u2588\u2588\u2588     | 5/10 [00:02<00:02,  1.77it/s]"
       ]
      },
      {
       "output_type": "stream",
       "stream": "stderr",
       "text": [
        "\r",
        "drift correction:  60%|\u2588\u2588\u2588\u2588\u2588\u2588    | 6/10 [00:03<00:02,  1.76it/s]"
       ]
      },
      {
       "output_type": "stream",
       "stream": "stderr",
       "text": [
        "\r",
        "drift correction:  70%|\u2588\u2588\u2588\u2588\u2588\u2588\u2588   | 7/10 [00:03<00:01,  1.77it/s]"
       ]
      },
      {
       "output_type": "stream",
       "stream": "stderr",
       "text": [
        "\r",
        "drift correction:  80%|\u2588\u2588\u2588\u2588\u2588\u2588\u2588\u2588  | 8/10 [00:04<00:01,  1.80it/s]"
       ]
      },
      {
       "output_type": "stream",
       "stream": "stderr",
       "text": [
        "\r",
        "drift correction:  90%|\u2588\u2588\u2588\u2588\u2588\u2588\u2588\u2588\u2588 | 9/10 [00:05<00:00,  1.82it/s]"
       ]
      },
      {
       "output_type": "stream",
       "stream": "stderr",
       "text": [
        "\r",
        "drift correction: 100%|\u2588\u2588\u2588\u2588\u2588\u2588\u2588\u2588\u2588\u2588| 10/10 [00:05<00:00,  1.83it/s]"
       ]
      },
      {
       "output_type": "stream",
       "stream": "stderr",
       "text": [
        "\n"
       ]
      }
     ],
     "prompt_number": 13
    },
    {
     "cell_type": "code",
     "collapsed": false,
     "input": [
      "shifts = GetShifts(resampledImageSections, sectionPeriods, sequenceDrifts, 10, kNumSamplesPerPeriod)"
     ],
     "language": "python",
     "metadata": {},
     "outputs": [
      {
       "output_type": "stream",
       "stream": "stderr",
       "text": [
        "\r",
        "calculate sequence shifts:   0%|          | 0/11 [00:00<?, ?it/s]"
       ]
      },
      {
       "output_type": "stream",
       "stream": "stderr",
       "text": [
        "\r",
        "calculate sequence shifts:   9%|\u2589         | 1/11 [00:01<00:16,  1.64s/it]"
       ]
      },
      {
       "output_type": "stream",
       "stream": "stderr",
       "text": [
        "\r",
        "calculate sequence shifts:  18%|\u2588\u258a        | 2/11 [00:03<00:14,  1.65s/it]"
       ]
      },
      {
       "output_type": "stream",
       "stream": "stderr",
       "text": [
        "\r",
        "calculate sequence shifts:  27%|\u2588\u2588\u258b       | 3/11 [00:04<00:12,  1.62s/it]"
       ]
      },
      {
       "output_type": "stream",
       "stream": "stderr",
       "text": [
        "\r",
        "calculate sequence shifts:  36%|\u2588\u2588\u2588\u258b      | 4/11 [00:06<00:10,  1.54s/it]"
       ]
      },
      {
       "output_type": "stream",
       "stream": "stderr",
       "text": [
        "\r",
        "calculate sequence shifts:  45%|\u2588\u2588\u2588\u2588\u258c     | 5/11 [00:07<00:08,  1.48s/it]"
       ]
      },
      {
       "output_type": "stream",
       "stream": "stderr",
       "text": [
        "\r",
        "calculate sequence shifts:  55%|\u2588\u2588\u2588\u2588\u2588\u258d    | 6/11 [00:08<00:06,  1.35s/it]"
       ]
      },
      {
       "output_type": "stream",
       "stream": "stderr",
       "text": [
        "\r",
        "calculate sequence shifts:  64%|\u2588\u2588\u2588\u2588\u2588\u2588\u258e   | 7/11 [00:09<00:05,  1.25s/it]"
       ]
      },
      {
       "output_type": "stream",
       "stream": "stderr",
       "text": [
        "\r",
        "calculate sequence shifts:  73%|\u2588\u2588\u2588\u2588\u2588\u2588\u2588\u258e  | 8/11 [00:10<00:03,  1.11s/it]"
       ]
      },
      {
       "output_type": "stream",
       "stream": "stderr",
       "text": [
        "\r",
        "calculate sequence shifts:  82%|\u2588\u2588\u2588\u2588\u2588\u2588\u2588\u2588\u258f | 9/11 [00:10<00:01,  1.08it/s]"
       ]
      },
      {
       "output_type": "stream",
       "stream": "stderr",
       "text": [
        "\r",
        "calculate sequence shifts:  91%|\u2588\u2588\u2588\u2588\u2588\u2588\u2588\u2588\u2588 | 10/11 [00:11<00:00,  1.36it/s]"
       ]
      },
      {
       "output_type": "stream",
       "stream": "stderr",
       "text": [
        "\r",
        "calculate sequence shifts: 100%|\u2588\u2588\u2588\u2588\u2588\u2588\u2588\u2588\u2588\u2588| 11/11 [00:11<00:00,  1.02s/it]"
       ]
      },
      {
       "output_type": "stream",
       "stream": "stdout",
       "text": [
        "(' took', 11.179317951202393)\n"
       ]
      },
      {
       "output_type": "stream",
       "stream": "stderr",
       "text": [
        "\n"
       ]
      }
     ],
     "prompt_number": 14
    },
    {
     "cell_type": "code",
     "collapsed": false,
     "input": [
      "(globalShiftSolution, adjustedShifts, adjacentSolution, res, res2) = MakeShiftsSelfConsistent(shifts, len(resampledImageSections), kNumSamplesPerPeriod)\n",
      "\n",
      "#print (globalShiftSolution - adjacentSolution)\n",
      "\n",
      "if False:\n",
      "    for i in range(len(shifts)):\n",
      "        # Look at how each measured shift compares with the solution we obtained\n",
      "        (i, j, sh, sc) = shifts[i]\n",
      "        print(i, j, sh, sc, (globalShiftSolution[j]-globalShiftSolution[i])%kNumSamplesPerPeriod, (adjacentSolution[j]-adjacentSolution[i])%kNumSamplesPerPeriod)\n",
      "    \n",
      "#\u00a0Look at how the global solution differs from the adjacent solution\n",
      "# (bearing in mind that we don't necessarily know which one to trust!)\n",
      "# Note that it would be informative to work with a long video that truly is \n",
      "# just focused on a single plane. That would help test how much the shifts\n",
      "# will naturally wander due to random variation.\n",
      "# sqrt(n) random walk would suggest wandering 17 in 300, which is about what I see, in fact.\n",
      "# Another potentially interesting thing to do would be to do a z scan and then retreat\n",
      "# back to where we started (if this can be done smoothly), and see how much the phase has drifted.\n",
      "# Yet another would be to run the same analysis but with different resampling,\n",
      "# and see how similar the results are.\n",
      "#plt.plot(((adjacentSolution - globalShiftSolution + kNumSamplesPerPeriod/2.0) % kNumSamplesPerPeriod) - kNumSamplesPerPeriod/2.0)\n",
      "\n",
      "#print (adjacentSolution[50:80] % kNumSamplesPerPeriod)\n",
      "#print (globalShiftSolution[50:80] % kNumSamplesPerPeriod)\n",
      "#print (((adjacentSolution - globalShiftSolution)[50:80]) % kNumSamplesPerPeriod)"
     ],
     "language": "python",
     "metadata": {},
     "outputs": [],
     "prompt_number": 8
    },
    {
     "cell_type": "code",
     "collapsed": false,
     "input": [
      "from phase_assignment import *\n",
      "\n",
      "# Define phases for resampled image sections\n",
      "# These give our definitive known time/phase mapping\n",
      "(knownTimes, knownPhases) = DefinePhaseForSequence(resampledImageSections, globalShiftSolution, kNumSamplesPerPeriod, plotIt = True)\n",
      "# Fill in the phases on the original brightfield images (because why not)\n",
      "(dummy1, dummy2) = DefinePhaseForSequence(imageSections, globalShiftSolution, kNumSamplesPerPeriod)\n"
     ],
     "language": "python",
     "metadata": {},
     "outputs": [],
     "prompt_number": 9
    },
    {
     "cell_type": "code",
     "collapsed": false,
     "input": [
      "from annotation import *\n",
      "\n",
      "basePath = '/Users/jonny/Movies/thursday_part_2/2016-06-09 16.37.35 vid slow heart belly scan'\n",
      "AnnotateFluorChannel('%s/Red - QIClick Q35979' % basePath, knownTimes, knownPhases, earlyTruncation = 100)\n",
      "    "
     ],
     "language": "python",
     "metadata": {},
     "outputs": [
      {
       "output_type": "stream",
       "stream": "stderr",
       "text": [
        "\r",
        "loading images:   0%|          | 0/100 [00:00<?, ?it/s]"
       ]
      },
      {
       "output_type": "stream",
       "stream": "stderr",
       "text": [
        "\r",
        "loading images:  44%|\u2588\u2588\u2588\u2588\u258d     | 44/100 [00:00<00:00, 431.60it/s]"
       ]
      },
      {
       "output_type": "stream",
       "stream": "stderr",
       "text": [
        "\r",
        "loading images:  93%|\u2588\u2588\u2588\u2588\u2588\u2588\u2588\u2588\u2588\u258e| 93/100 [00:00<00:00, 445.53it/s]"
       ]
      },
      {
       "output_type": "stream",
       "stream": "stderr",
       "text": [
        "\r",
        "loading images: 100%|\u2588\u2588\u2588\u2588\u2588\u2588\u2588\u2588\u2588\u2588| 100/100 [00:00<00:00, 457.97it/s]"
       ]
      },
      {
       "output_type": "stream",
       "stream": "stderr",
       "text": [
        "\n",
        "\r",
        "edit plists:   0%|          | 0/100 [00:00<?, ?it/s]"
       ]
      },
      {
       "output_type": "stream",
       "stream": "stderr",
       "text": [
        "\r",
        "edit plists:  52%|\u2588\u2588\u2588\u2588\u2588\u258f    | 52/100 [00:00<00:00, 519.11it/s]"
       ]
      },
      {
       "output_type": "stream",
       "stream": "stderr",
       "text": [
        "\r",
        "edit plists: 100%|\u2588\u2588\u2588\u2588\u2588\u2588\u2588\u2588\u2588\u2588| 100/100 [00:00<00:00, 520.64it/s]"
       ]
      },
      {
       "output_type": "stream",
       "stream": "stdout",
       "text": [
        "(14, '/', 100, 'failed to recover a phase')\n"
       ]
      },
      {
       "output_type": "stream",
       "stream": "stderr",
       "text": [
        "\n"
       ]
      }
     ],
     "prompt_number": 10
    }
   ],
   "metadata": {}
  }
 ]
}