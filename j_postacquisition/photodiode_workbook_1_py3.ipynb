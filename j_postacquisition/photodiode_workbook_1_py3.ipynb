{
 "cells": [
  {
   "cell_type": "code",
   "execution_count": 3,
   "metadata": {
    "collapsed": false
   },
   "outputs": [
    {
     "name": "stderr",
     "output_type": "stream",
     "text": [
      "loading images: 100%|██████████| 1500/1500 [00:01<00:00, 1022.43it/s]\n",
      "Dividing and calculating periods: 100%|██████████| 1500/1500 [00:05<00:00, 271.50it/s]"
     ]
    },
    {
     "name": "stdout",
     "output_type": "stream",
     "text": [
      "estimated average(ish) period 116.0 from first 1500 images\n",
      "section periods"
     ]
    },
    {
     "name": "stderr",
     "output_type": "stream",
     "text": [
      "\n",
      "resample, using 200 samples per period: 100%|██████████| 6/6 [00:00<00:00, 127.51it/s]\n",
      "calculate sequence shifts: 100%|██████████| 6/6 [00:00<00:00, 176.49it/s]"
     ]
    },
    {
     "name": "stdout",
     "output_type": "stream",
     "text": [
      " [117.40000000000025, 116.60000000000024, 115.60000000000022, 115.60000000000022, 116.40000000000023, 117.40000000000025]\n",
      "period range 115.6 to 117.4\n",
      "6 image sections\n",
      "0 / 1407 skipped as anomalous\n",
      " took"
     ]
    },
    {
     "name": "stderr",
     "output_type": "stream",
     "text": [
      "\n",
      "loading images: 100%|██████████| 1500/1500 [00:00<00:00, 5301.57it/s]"
     ]
    },
    {
     "name": "stdout",
     "output_type": "stream",
     "text": [
      " 0.034934043884277344\n",
      "[(0, 1, 198, 5372354.7469940186), (0, 2, 196, 3694102.8653182983), (0, 3, 197, 3670097.1901016235), (0, 4, 193, 7782821.6330947876), (1, 2, 198, 2282322.8873825073), (1, 3, 198, 3159414.8561706543), (1, 4, 195, 4851088.8885345459), (1, 5, 192, 4298117.5439987183), (2, 3, 0, 2743823.486579895), (2, 4, 197, 5160351.1236038208), (2, 5, 194, 4792262.0984420776), (3, 4, 197, 4793531.1263504028), (3, 5, 194, 5468205.4511489868), (4, 5, 197, 2915767.9905319214)]\n",
      "Solving using 5 of 14 constraints (max range 1 )\n",
      "Done first stage\n",
      "Solving using 14 of 14 constraints (max range 32 )\n",
      "Solving using 14 of 14 constraints (max range 128 )\n",
      "Solving using 14 of 14 constraints (max range 512 )\n",
      "Solving using 14 of 14 constraints (max range 2048 )\n",
      "Define phase (key postacquisition_phase ) for /Users/jonny/Movies/Example_compr_sens_datasets/New datasets w jt phase annotation/Darkfield/df_fish3_maskA_photodiodetifs_2000to3499\n",
      "100"
     ]
    },
    {
     "name": "stderr",
     "output_type": "stream",
     "text": [
      "\n",
      "/Volumes/Development/Spim_GUI/j_postacquisition/phase_wrap_interpolation.py:34: RuntimeWarning: invalid value encountered in greater\n",
      "  wrapIndices = np.where((beforePhases > 0.75 * phaseWrapValue) & (afterPhases < 0.25 * phaseWrapValue))\n",
      "edit plists: 100%|██████████| 1500/1500 [00:00<00:00, 2512.84it/s]\n",
      "loading images: 100%|██████████| 1500/1500 [00:02<00:00, 691.85it/s]"
     ]
    },
    {
     "name": "stdout",
     "output_type": "stream",
     "text": [
      " / 1500 failed to recover a phase\n",
      "estimated average(ish) period"
     ]
    },
    {
     "name": "stderr",
     "output_type": "stream",
     "text": [
      "\n",
      "Dividing and calculating periods: 100%|██████████| 1500/1500 [00:05<00:00, 282.76it/s]"
     ]
    },
    {
     "name": "stdout",
     "output_type": "stream",
     "text": [
      " 112.0 from first 1500 images\n",
      "section periods"
     ]
    },
    {
     "name": "stderr",
     "output_type": "stream",
     "text": [
      "\n",
      "resample, using 200 samples per period: 100%|██████████| 6/6 [00:00<00:00, 128.89it/s]\n",
      "calculate sequence shifts: 100%|██████████| 6/6 [00:00<00:00, 174.89it/s]"
     ]
    },
    {
     "name": "stdout",
     "output_type": "stream",
     "text": [
      " [110.60000000000015, 110.40000000000015, 111.40000000000016, 111.60000000000016, 110.60000000000015, 111.00000000000016]\n",
      "period range 110.4 to 111.6\n",
      "6 image sections\n",
      "0 / 1341 skipped as anomalous\n",
      " took"
     ]
    },
    {
     "name": "stderr",
     "output_type": "stream",
     "text": [
      "\n",
      "loading images: 100%|██████████| 1500/1500 [00:00<00:00, 5356.26it/s]"
     ]
    },
    {
     "name": "stdout",
     "output_type": "stream",
     "text": [
      " 0.03531217575073242\n",
      "[(0, 1, 199, 1142166.0293579102), (0, 2, 197, 1153069.453918457), (0, 3, 197, 1431807.5643920898), (0, 4, 194, 1065508.606262207), (1, 2, 198, 997365.49560546875), (1, 3, 197, 1047195.0008544922), (1, 4, 195, 1040010.0934448242), (1, 5, 195, 1224805.1018676758), (2, 3, 0, 911318.83099365234), (2, 4, 197, 972463.85144042969), (2, 5, 197, 1385320.2434082031), (3, 4, 198, 917579.77337646484), (3, 5, 197, 1025996.2037963867), (4, 5, 0, 1017817.3668823242)]\n",
      "Solving using 5 of 14 constraints (max range 1 )\n",
      "Done first stage\n",
      "Solving using 14 of 14 constraints (max range 32 )\n",
      "Solving using 14 of 14 constraints (max range 128 )\n",
      "Solving using 14 of 14 constraints (max range 512 )\n",
      "Solving using 14 of 14 constraints (max range 2048 )\n",
      "Define phase (key postacquisition_phase ) for /Users/jonny/Movies/Example_compr_sens_datasets/New datasets w jt phase annotation/Brightfield/bf_fish3_maskA_photodiodetifs_2000to3499\n",
      "167"
     ]
    },
    {
     "name": "stderr",
     "output_type": "stream",
     "text": [
      "\n",
      "/Volumes/Development/Spim_GUI/j_postacquisition/phase_wrap_interpolation.py:34: RuntimeWarning: invalid value encountered in greater\n",
      "  wrapIndices = np.where((beforePhases > 0.75 * phaseWrapValue) & (afterPhases < 0.25 * phaseWrapValue))\n",
      "edit plists: 100%|██████████| 1500/1500 [00:00<00:00, 2041.56it/s]\n",
      "loading images: 100%|██████████| 600/600 [00:09<00:00, 64.85it/s]"
     ]
    },
    {
     "name": "stdout",
     "output_type": "stream",
     "text": [
      " / 1500 failed to recover a phase\n",
      "estimated average(ish) period"
     ]
    },
    {
     "name": "stderr",
     "output_type": "stream",
     "text": [
      "\n",
      "Dividing and calculating periods: 100%|██████████| 600/600 [02:15<00:00,  4.44it/s]"
     ]
    },
    {
     "name": "stdout",
     "output_type": "stream",
     "text": [
      " 46.5 from first 600 images\n",
      "section periods"
     ]
    },
    {
     "name": "stderr",
     "output_type": "stream",
     "text": [
      "\n",
      "resample, using 80 samples per period: 100%|██████████| 6/6 [00:01<00:00,  3.61it/s]"
     ]
    },
    {
     "name": "stdout",
     "output_type": "stream",
     "text": [
      " [47.400000000000247, 46.400000000000233, 45.600000000000222, 46.600000000000236, 46.400000000000233, 46.400000000000233]\n",
      "period range 45.6 to 47.4\n",
      "6 image sections\n",
      "0"
     ]
    },
    {
     "name": "stderr",
     "output_type": "stream",
     "text": [
      "\n",
      "calculate sequence shifts: 100%|██████████| 6/6 [00:38<00:00,  6.48s/it]"
     ]
    },
    {
     "name": "stdout",
     "output_type": "stream",
     "text": [
      " / 566 skipped as anomalous\n",
      " took 38.85520315170288\n",
      "[(0, 1, 79, 33186353.440551758), (0, 2, 79, 42270234.735198975), (0, 3, 79, 46786615.409698486), (0, 4, 78, 58815456.112060547), (1, 2, 0, 35806626.815490723), (1, 3, 0, 34725114.659851074), (1, 4, 79, 46666723.247314453), (1, 5, 78, 56402110.650360107), (2, 3, 0, 36135501.679779053), (2, 4, 79, 37214338.517089844), (2, 5, 79, 46586305.969970703), (3, 4, 78, 31670405.152862549), (3, 5, 78, 36022095.410736084), (4, 5, 0, 27511666.929107666)]\n",
      "Solving using 5 of 14 constraints (max range 1 )\n",
      "Done first stage\n",
      "Solving using 14 of 14 constraints (max range 32 )\n",
      "Solving using 14 of 14 constraints (max range 128 )\n",
      "Solving using 14 of 14 constraints (max range 512 )\n",
      "Solving using 14 of 14 constraints (max range 2048 )\n",
      "Define phase (key"
     ]
    },
    {
     "name": "stderr",
     "output_type": "stream",
     "text": [
      "\n",
      "loading images: 100%|██████████| 600/600 [00:01<00:00, 565.73it/s]"
     ]
    },
    {
     "name": "stdout",
     "output_type": "stream",
     "text": [
      " postacquisition_phase ) for /Users/jonny/Movies/Example_compr_sens_datasets/New datasets w jt phase annotation/Darkfield/df_fish3_maskA_widefield_800to1399\n",
      "41"
     ]
    },
    {
     "name": "stderr",
     "output_type": "stream",
     "text": [
      "\n",
      "/Volumes/Development/Spim_GUI/j_postacquisition/phase_wrap_interpolation.py:34: RuntimeWarning: invalid value encountered in greater\n",
      "  wrapIndices = np.where((beforePhases > 0.75 * phaseWrapValue) & (afterPhases < 0.25 * phaseWrapValue))\n",
      "edit plists: 100%|██████████| 600/600 [00:00<00:00, 618.27it/s]\n",
      "loading images: 100%|██████████| 600/600 [00:07<00:00, 76.29it/s]"
     ]
    },
    {
     "name": "stdout",
     "output_type": "stream",
     "text": [
      " / 600 failed to recover a phase\n",
      "estimated average(ish) period"
     ]
    },
    {
     "name": "stderr",
     "output_type": "stream",
     "text": [
      "\n",
      "Dividing and calculating periods: 100%|██████████| 600/600 [02:08<00:00,  4.68it/s]"
     ]
    },
    {
     "name": "stdout",
     "output_type": "stream",
     "text": [
      " 44.4 from first 600 images\n",
      "section periods"
     ]
    },
    {
     "name": "stderr",
     "output_type": "stream",
     "text": [
      "\n",
      "resample, using 80 samples per period: 100%|██████████| 6/6 [00:01<00:00,  3.62it/s]"
     ]
    },
    {
     "name": "stdout",
     "output_type": "stream",
     "text": [
      " [44.400000000000205, 44.400000000000205, 44.400000000000205, 44.600000000000207, 44.600000000000207, 44.400000000000205]\n",
      "period range 44.4 to 44.6\n",
      "6 image sections\n",
      "0"
     ]
    },
    {
     "name": "stderr",
     "output_type": "stream",
     "text": [
      "\n",
      "calculate sequence shifts: 100%|██████████| 6/6 [00:38<00:00,  6.48s/it]"
     ]
    },
    {
     "name": "stdout",
     "output_type": "stream",
     "text": [
      " / 542 skipped as anomalous\n",
      " took 38.90001106262207\n",
      "[(0, 1, 0, 48494420.101745605), (0, 2, 79, 46304689.608154297), (0, 3, 78, 43334793.136779785), (0, 4, 76, 47356512.662963867), (1, 2, 79, 33058635.144226074), (1, 3, 78, 33757602.071533203), (1, 4, 77, 34352563.207458496), (1, 5, 75, 33881398.97265625), (2, 3, 79, 32478898.104370117), (2, 4, 78, 31975858.831604004), (2, 5, 76, 34172288.035705566), (3, 4, 78, 33910551.465148926), (3, 5, 76, 35143639.905944824), (4, 5, 78, 33677352.53527832)]\n",
      "Solving using 5 of 14 constraints (max range 1 )\n",
      "Done first stage\n",
      "Solving using 14 of 14 constraints (max range 32 )\n",
      "Solving using 14 of 14 constraints (max range 128 )\n",
      "Solving using 14 of 14 constraints (max range 512 )\n",
      "Solving using 14 of 14 constraints (max range 2048 )\n",
      "Define phase (key"
     ]
    },
    {
     "name": "stderr",
     "output_type": "stream",
     "text": [
      "\n",
      "loading images: 100%|██████████| 600/600 [00:01<00:00, 589.32it/s]"
     ]
    },
    {
     "name": "stdout",
     "output_type": "stream",
     "text": [
      " postacquisition_phase ) for /Users/jonny/Movies/Example_compr_sens_datasets/New datasets w jt phase annotation/Brightfield/bf_fish3_maskA_widefield_800to1399\n",
      "65"
     ]
    },
    {
     "name": "stderr",
     "output_type": "stream",
     "text": [
      "\n",
      "/Volumes/Development/Spim_GUI/j_postacquisition/phase_wrap_interpolation.py:34: RuntimeWarning: invalid value encountered in greater\n",
      "  wrapIndices = np.where((beforePhases > 0.75 * phaseWrapValue) & (afterPhases < 0.25 * phaseWrapValue))\n",
      "edit plists: 100%|██████████| 600/600 [00:00<00:00, 633.00it/s]"
     ]
    },
    {
     "name": "stdout",
     "output_type": "stream",
     "text": [
      " / 600 failed to recover a phase\n"
     ]
    },
    {
     "name": "stderr",
     "output_type": "stream",
     "text": [
      "\n"
     ]
    }
   ],
   "source": [
    "from analyze_dataset import *\n",
    "\n",
    "frameRanges = None\n",
    "\n",
    "if True:\n",
    "    # Analyze photodiode channels, with 4-point averaging to smooth out 50Hz interference\n",
    "    # Note that we look for time_processing_started in the photodiode channel. That is just a synthetic timestamp, and I presume that's the key I suggested Alex fills in. \n",
    "    basePath = '/Users/jonny/Movies/Example_compr_sens_datasets/New datasets w jt phase annotation/Darkfield'\n",
    "    (kt1, kp1) = AnalyzeDataset(basePath, frameRanges, ['df_fish3_maskA_photodiodetifs_2000to3499'], periodRange = np.arange(100, 140, 0.2), numSamplesPerPeriod = 200, source='df_fish3_maskA_photodiodetifs_2000to3499', applyDriftCorrection=False, downsampling=1, interpolationDistanceBetweenSequences=4, rollingAverage=True, sourceTimestampKey='time_processing_started', fluorTimestampKey='time_processing_started')\n",
    "\n",
    "    basePath = '/Users/jonny/Movies/Example_compr_sens_datasets/New datasets w jt phase annotation/Brightfield'\n",
    "    (kt2, kp2) = AnalyzeDataset(basePath, frameRanges, ['bf_fish3_maskA_photodiodetifs_2000to3499'], periodRange = np.arange(100, 140, 0.2), numSamplesPerPeriod = 200, source='bf_fish3_maskA_photodiodetifs_2000to3499', applyDriftCorrection=False, downsampling=1, interpolationDistanceBetweenSequences=4, rollingAverage=True, sourceTimestampKey='time_processing_started', fluorTimestampKey='time_processing_started')\n",
    "\n",
    "if True:\n",
    "    basePath = '/Users/jonny/Movies/Example_compr_sens_datasets/New datasets w jt phase annotation/Darkfield'\n",
    "    (kt3, kp3) = AnalyzeDataset(basePath, frameRanges, ['df_fish3_maskA_widefield_800to1399'], periodRange = np.arange(30, 56, 0.1), numSamplesPerPeriod = 80, source='df_fish3_maskA_widefield_800to1399', applyDriftCorrection=False, downsampling=1, interpolationDistanceBetweenSequences=4, sourceTimestampKey='synthetic_timestamp', fluorTimestampKey='synthetic_timestamp')\n",
    "\n",
    "    basePath = '/Users/jonny/Movies/Example_compr_sens_datasets/New datasets w jt phase annotation/Brightfield'\n",
    "    (kt4, kp4) = AnalyzeDataset(basePath, frameRanges, ['bf_fish3_maskA_widefield_800to1399'], periodRange = np.arange(30, 56, 0.1), numSamplesPerPeriod = 80, source='bf_fish3_maskA_widefield_800to1399', applyDriftCorrection=False, downsampling=1, interpolationDistanceBetweenSequences=4, sourceTimestampKey='synthetic_timestamp', fluorTimestampKey='synthetic_timestamp')\n"
   ]
  },
  {
   "cell_type": "code",
   "execution_count": 4,
   "metadata": {
    "collapsed": false
   },
   "outputs": [
    {
     "name": "stderr",
     "output_type": "stream",
     "text": [
      "/Users/jonny/anaconda/lib/python3.5/site-packages/ipykernel/__main__.py:4: RuntimeWarning: invalid value encountered in less\n"
     ]
    },
    {
     "data": {
      "image/png": "[encoded data removed]",
      "text/plain": [
       "<matplotlib.figure.Figure at 0x11f95ff98>"
      ]
     },
     "metadata": {},
     "output_type": "display_data"
    }
   ],
   "source": [
    "%matplotlib inline \n",
    "def diffs(knownTimes, knownPhases):\n",
    "    y = knownPhases[1:] - knownPhases[0:knownPhases.size-1]\n",
    "    y[np.where(y<0)]=np.nan\n",
    "    x = knownTimes - knownTimes[0]\n",
    "    x = x[1:]\n",
    "    return (x,y)\n",
    "\n",
    "(x1,y1) = diffs(kt1, kp1)\n",
    "x1 = x1 * 2.5\n",
    "y1 = y1 * 2.5\n",
    "if True:\n",
    "    (x2,y2) = diffs(kt2, kp2)\n",
    "    x2 = x2 * 2.5\n",
    "    y2 = y2 * 2.5\n",
    "    (x3,y3) = diffs(kt3, kp3)\n",
    "    (x4,y4) = diffs(kt4, kp4)\n",
    "else:\n",
    "    x2=x1\n",
    "    x3=x1\n",
    "    x4=x1\n",
    "    y2=y1\n",
    "    y3=y1\n",
    "    y4=y1\n",
    "\n",
    "plt.gcf().clear()\n",
    "plt.ylim((0,0.5))\n",
    "plt.plot(x1,y1)\n",
    "plt.plot(x2,y2)\n",
    "plt.plot(x3,y3)\n",
    "plt.plot(x4,y4)\n",
    "plt.plot(np.array([0,7]), np.array([0.07853982, 0.07853982]))\n",
    "plt.show()"
   ]
  },
  {
   "cell_type": "code",
   "execution_count": 3,
   "metadata": {
    "collapsed": false
   },
   "outputs": [
    {
     "name": "stderr",
     "output_type": "stream",
     "text": [
      "loading images: 100%|██████████| 600/600 [00:02<00:00, 212.89it/s]\n",
      "Dividing and calculating periods: 100%|██████████| 600/600 [00:15<00:00, 38.41it/s]"
     ]
    },
    {
     "name": "stdout",
     "output_type": "stream",
     "text": [
      "estimated average(ish) period 46.5 from first 600 images\n",
      "section periods"
     ]
    },
    {
     "name": "stderr",
     "output_type": "stream",
     "text": [
      "\n",
      "resample, using 80 samples per period: 100%|██████████| 6/6 [00:00<00:00, 12.41it/s]"
     ]
    },
    {
     "name": "stdout",
     "output_type": "stream",
     "text": [
      " [47.5, 46.5, 45.75, 46.75, 46.5, 46.5]\n",
      "period range 45.75 to 47.5\n",
      "6 image sections\n",
      "0"
     ]
    },
    {
     "name": "stderr",
     "output_type": "stream",
     "text": [
      "\n",
      "calculate sequence shifts: 100%|██████████| 6/6 [00:06<00:00,  1.15s/it]"
     ]
    },
    {
     "name": "stdout",
     "output_type": "stream",
     "text": [
      " / 570 skipped as anomalous\n",
      " took 6.920669078826904\n",
      "[(0, 1, 77, 7006979.7588043213), (0, 2, 75, 8875181.6107254028), (0, 3, 76, 10041014.183570862), (0, 4, 74, 11852317.441238403), (1, 2, 78, 7076702.7253341675), (1, 3, 78, 7611187.8232269287), (1, 4, 77, 8977193.9176177979), (1, 5, 75, 11182816.403579712), (2, 3, 1, 7331367.7694473267), (2, 4, 79, 7390452.4572906494), (2, 5, 77, 9472011.1889572144), (3, 4, 78, 6159181.1034317017), (3, 5, 77, 7129843.1093673706), (4, 5, 78, 5539684.9410171509)]\n",
      "Solving using 5 of 14 constraints (max range 1 )\n",
      "Done first stage\n",
      "Solving using 14 of 14 constraints (max range 32 )\n",
      "Solving using 14 of 14 constraints (max range 128 )\n",
      "Solving using 14 of 14 constraints (max range 512 )\n",
      "Solving using 14 of 14 constraints (max range 2048 )\n",
      "Define phase (key"
     ]
    },
    {
     "name": "stderr",
     "output_type": "stream",
     "text": [
      "\n",
      "loading images: 100%|██████████| 600/600 [00:01<00:00, 566.26it/s]"
     ]
    },
    {
     "name": "stdout",
     "output_type": "stream",
     "text": [
      " postacquisition_phase ) for /Users/jonny/Movies/Example_compr_sens_datasets/New datasets w jt phase annotation/Darkfield/df_fish3_maskA_widefield_800to1399\n",
      "600"
     ]
    },
    {
     "name": "stderr",
     "output_type": "stream",
     "text": [
      "\n",
      "/Volumes/Development/Spim_GUI/j_postacquisition/phase_wrap_interpolation.py:34: RuntimeWarning: invalid value encountered in greater\n",
      "  wrapIndices = np.where((beforePhases > 0.75 * phaseWrapValue) & (afterPhases < 0.25 * phaseWrapValue))\n",
      "edit plists: 100%|██████████| 600/600 [00:00<00:00, 637.15it/s]"
     ]
    },
    {
     "name": "stdout",
     "output_type": "stream",
     "text": [
      " / 600 failed to recover a phase\n"
     ]
    },
    {
     "name": "stderr",
     "output_type": "stream",
     "text": [
      "\n"
     ]
    },
    {
     "data": {
      "image/png": "[encoded data removed]",
      "text/plain": [
       "<matplotlib.figure.Figure at 0x11499a6d8>"
      ]
     },
     "metadata": {},
     "output_type": "display_data"
    }
   ],
   "source": [
    "# Testing to understand why annotation is failing with synthetic timestamps.\n",
    "# The parameters here are chosen for speed, not accuracy\n",
    "basePath = '/Users/jonny/Movies/Example_compr_sens_datasets/New datasets w jt phase annotation/Darkfield'\n",
    "(kt3, kp3) = AnalyzeDataset(basePath, frameRanges, ['df_fish3_maskA_widefield_800to1399'], periodRange = np.arange(30, 56, 0.25), numSamplesPerPeriod = 80, source='df_fish3_maskA_widefield_800to1399', applyDriftCorrection=False, downsampling=2, interpolationDistanceBetweenSequences=4, fluorTimestampKey='synthetic_timestamp')\n",
    "\n"
   ]
  },
  {
   "cell_type": "code",
   "execution_count": 5,
   "metadata": {
    "collapsed": false
   },
   "outputs": [
    {
     "name": "stdout",
     "output_type": "stream",
     "text": [
      "[ 3952.0233056   3952.0233066   3952.03102318  3952.03853954  3952.04562208\n",
      "  3952.0529615   3952.06045078  3952.06790564  3952.0754702   3952.08334723\n",
      "  3952.09064763  3952.09752867  3952.10489152  3952.11234438  3952.11992219\n",
      "  3952.12738642  3952.13474843  3952.14226481  3952.14975617  3952.1569597\n",
      "  3952.16427146  3952.17170349  3952.17944104  3952.18717433  3952.19417874\n",
      "  3952.20136509  3952.20880158  3952.21622187  3952.22363768  3952.2310772\n",
      "  3952.23851093  3952.24593471  3952.25334469  3952.26074829  3952.26814828\n",
      "  3952.27557334  3952.28305272  3952.29046348  3952.29783419  3952.30528867\n",
      "  3952.31273698  3952.32015501  3952.32799333  3952.33613733  3952.34345961\n",
      "  3952.35062954  3952.35759072  3952.36475087  3952.37209009  3952.37965649\n",
      "  3952.38720303  3952.39441648  3952.40172474  3952.40913835  3952.41657575\n",
      "  3952.42401696  3952.43143665  3952.43898459  3952.44670888  3952.45400604\n",
      "  3952.46116316  3952.46854542  3952.47594917  3952.48338976  3952.4908183\n",
      "  3952.49824127  3952.50567087  3952.51311396  3952.52058629  3952.52803465\n",
      "  3952.53546903  3952.54309597  3952.55059821  3952.55772137  3952.5650242\n",
      "  3952.57245768  3952.5805321   3952.58837213  3952.59505043  3952.60213866\n",
      "  3952.60959582  3952.6170061   3952.62440777  3952.63181049  3952.6392236\n",
      "  3952.64664828  3952.65411043  3952.66158499  3952.66907999  3952.67649756\n",
      "  3952.68380865  3952.69126248  3952.69878726  3952.7066717   3952.71419362\n",
      "  3952.72109409  3952.73104902  3952.7424137   3952.74587289  3952.750577\n",
      "  3952.75797843  3952.76540138  3952.7728369   3952.78029489  3952.78773318\n",
      "  3952.79511279  3952.8025205   3952.80994866  3952.81737642  3952.82480225\n",
      "  3952.83222103  3952.83964193  3952.84706475  3952.85515939  3952.86313931\n",
      "  3952.86983547  3952.87683466  3952.88417054  3952.89157233  3952.89899173\n",
      "  3952.90641133  3952.91385315  3952.92132549  3952.92872679  3952.93610536\n",
      "  3952.94353152  3952.95109372  3952.95888915  3952.96648566  3952.97399036\n",
      "  3952.98175992  3952.98916537  3952.9957819   3953.00293681  3953.01040576\n",
      "  3953.01777176  3953.02515332  3953.03259445  3953.0400242   3953.04744567\n",
      "  3953.0548884   3953.06232527  3953.06973081  3953.07780797  3953.08648958\n",
      "  3953.09303382  3953.09938097  3953.10681438  3953.1143966   3953.12214415\n",
      "  3953.12943452  3953.13663273  3953.14408384  3953.15148858  3953.15882956\n",
      "  3953.16636083  3953.17394028  3953.18116349  3953.18857237  3953.19629954\n",
      "  3953.20361444  3953.22322689  3953.23047722  3953.23773573  3953.24501534\n",
      "  3953.25228395  3953.25954387  3953.26682762  3953.2741105   3953.28135275\n",
      "  3953.28860472  3953.29587141  3953.30313851  3953.31040581  3953.31766901\n",
      "  3953.32493576  3953.33221459  3953.33954368  3953.3469199   3953.35410485\n",
      "  3953.36125523  3953.36858409  3953.37600881  3953.38360781  3953.39073747\n",
      "  3953.39759666  3953.40486088  3953.41215721  3953.41942845  3953.42668579\n",
      "  3953.43392765  3953.44152824  3953.44923005  3953.45643236  3953.4635394\n",
      "  3953.47043617  3953.47778793  3953.48545406  3953.49279162  3953.50010838\n",
      "  3953.50758243  3953.51483076  3953.52178002  3953.52870626  3953.53562307\n",
      "  3953.5428893   3953.55017939  3953.55752409  3953.56484437  3953.57214454\n",
      "  3953.57954782  3953.58692858  3953.59394458  3953.60104618  3953.60828331\n",
      "  3953.61561562  3953.62299552  3953.63019184  3953.63738658  3953.64461164\n",
      "  3953.65186554  3953.65914768  3953.66642871  3953.67370639  3953.68093974\n",
      "  3953.6882885   3953.69585728  3953.70306214  3953.71004739  3953.71727759\n",
      "  3953.72453654  3953.73180668  3953.73908325  3953.7463673   3953.75393022\n",
      "  3953.76158179  3953.76885351  3953.77599929  3953.78285271  3953.78993416\n",
      "  3953.7971803   3953.80444768  3953.81178305  3953.81951563  3953.82686064\n",
      "  3953.83366899  3953.84088088  3953.84826659  3953.85545555  3953.86283839\n",
      "  3953.87079103  3953.87799106  3953.88454385  3953.89179543  3953.89917448\n",
      "  3953.90628429  3953.91345251  3953.92071756  3953.92797161  3953.93521989\n",
      "  3953.94249667  3953.94977053  3953.95702654  3953.96433655  3953.97170171\n",
      "  3953.97891101  3953.98608024  3953.99334437  3954.00061544  3954.00790041\n",
      "  3954.0152093   3954.02253328  3954.02974518  3954.03695567  3954.04422439\n",
      "  3954.05149294  3954.05876127  3954.07187779  3954.08698117  3954.08706951\n",
      "  3954.08901489  3954.09549966  3954.10240056  3954.10961552  3954.11692344\n",
      "  3954.12424861  3954.13157906  3954.13882874  3954.14596149  3954.15319057\n",
      "  3954.1604633   3954.16777742  3954.17518933  3954.18289463  3954.19022309\n",
      "  3954.19721318  3954.20425651  3954.21144298  3954.22001464  3954.22770727\n",
      "  3954.23387451  3954.24061845  3954.24767958  3954.25491777  3954.26221752\n",
      "  3954.26970086  3954.27697151  3954.28401527  3954.29158511  3954.29927884\n",
      "  3954.3061022   3954.31306388  3954.32031606  3954.32760608  3954.33492111\n",
      "  3954.34225052  3954.34955537  3954.35672242  3954.36392435  3954.3711705\n",
      "  3954.37843082  3954.39828711  3954.40539788  3954.41252415  3954.41969663\n",
      "  3954.42696358  3954.43432398  3954.44133529  3954.44823418  3954.45538885\n",
      "  3954.46254398  3954.46970046  3954.47686477  3954.48403666  3954.49116999\n",
      "  3954.49829131  3954.50543146  3954.51257874  3954.51974604  3954.52689136\n",
      "  3954.53401588  3954.54117569  3954.54835632  3954.55613544  3954.5635767\n",
      "  3954.57009406  3954.57723582  3954.58495598  3954.59230222  3954.59952029\n",
      "  3954.60598693  3954.6126411   3954.61979407  3954.62693657  3954.63406957\n",
      "  3954.6412308   3954.64840636  3954.6558025   3954.66316311  3954.67043177\n",
      "  3954.677441    3954.68422022  3954.69127588  3954.69842112  3954.70592784\n",
      "  3954.71323279  3954.72002944  3954.72702189  3954.73418417  3954.74133573\n",
      "  3954.74848543  3954.75566149  3954.76281947  3954.76993307  3954.77709153\n",
      "  3954.78428805  3954.7914059   3954.79851081  3954.80578386  3954.81301873\n",
      "  3954.82016237  3954.82731351  3954.83447087  3954.84157773  3954.8486726\n",
      "  3954.85578307  3954.86291498  3954.87009678  3954.87721709  3954.88428749\n",
      "  3954.89142822  3954.89859177  3954.90585224  3954.91305169  3954.92011273\n",
      "  3954.92720987  3954.93433569  3954.94158317  3954.94884442  3954.95587124\n",
      "  3954.96293703  3954.97008898  3954.97723992  3954.9843901   3954.99154629\n",
      "  3954.99872254  3955.00616498  3955.013412    3955.02023785  3955.02728245\n",
      "  3955.03449324  3955.04160622  3955.04870206  3955.05585508  3955.06301096\n",
      "  3955.07017282  3955.07731989  3955.08445597  3955.09160421  3955.09877142\n",
      "  3955.10613667  3955.11336706  3955.12032099  3955.12737989  3955.13451505\n",
      "  3955.14165379  3955.14879444  3955.15594824  3955.16309926  3955.17024469\n",
      "  3955.17739829  3955.18455768  3955.19168258  3955.19882625  3955.20623643\n",
      "  3955.21347391  3955.22037432  3955.22745314  3955.23465586  3955.24204734\n",
      "  3955.24941742  3955.25623145  3955.26315446  3955.270285    3955.27743627\n",
      "  3955.2846016   3955.29175506  3955.29890856  3955.30608202  3955.31340966\n",
      "  3955.32102396  3955.32822137  3955.33514211  3955.34204932  3955.34897615\n",
      "  3955.35609259  3955.36322478  3955.37038556  3955.37756279  3955.38475071\n",
      "  3955.39189291  3955.3990274   3955.40616078  3955.41329668  3955.42043706\n",
      "  3955.42760289  3955.43478485  3955.44189904  3955.4490094   3955.45617304\n",
      "  3955.46332724  3955.4704651   3955.47761327  3955.48476781  3955.49198376\n",
      "  3955.49921119  3955.50645472  3955.51359547  3955.5205624   3955.52764684\n",
      "  3955.53480242  3955.54832975  3955.5556025   3955.56306491  3955.57099443\n",
      "  3955.57817484  3955.58480731  3955.59202243  3955.59932903  3955.60664413\n",
      "  3955.61394364  3955.6212236   3955.62853224  3955.63585109  3955.6431585\n",
      "  3955.65047989  3955.65783238  3955.66511217  3955.67234326  3955.67966549\n",
      "  3955.68706299  3955.69475792  3955.70208805  3955.70899888  3955.71619363\n",
      "  3955.72348275  3955.73081095  3955.73826078  3955.74595581  3955.75317444\n",
      "  3955.76010147  3955.76734322  3955.77472609  3955.7825535   3955.78992227\n",
      "  3955.79680721  3955.80394657  3955.81116582  3955.81847553  3955.82578644\n",
      "  3955.83309958  3955.8404578   3955.84784121  3955.85519059  3955.86249768\n",
      "  3955.86966326  3955.8769186   3955.88426089  3955.8915319   3955.89879073\n",
      "  3955.90611364  3955.91356032  3955.92121389  3955.92839645  3955.93533971\n",
      "  3955.94262261  3955.94993694  3955.95729628  3955.96460003  3955.97185436\n",
      "  3955.97914103  3955.98647592  3955.99415334  3956.00165582  3956.00889118\n",
      "  3956.01598214  3956.02300652  3956.03030574  3956.03760997  3956.04490705\n",
      "  3956.05221114  3956.05952094  3956.06681763  3956.07411476  3956.0814318\n",
      "  3956.08874897  3956.09606632  3956.10358824  3956.11119538  3956.11818433\n",
      "  3956.12552313  3956.13375489  3956.14100889  3956.14753187  3956.15459274\n",
      "  3956.16178397  3956.16922228  3956.17655119  3956.18374002  3956.19100557\n",
      "  3956.1983002   3956.20561255  3956.21291855  3956.22021008  3956.22754314\n",
      "  3956.23490463  3956.24230067  3956.24972434  3956.25725955  3956.26456252\n",
      "  3956.27159275  3956.27883636  3956.28614687  3956.29333609  3956.30056367\n",
      "  3956.30787051  3956.31517998  3956.32249111  3956.32988911  3956.33749954\n",
      "  3956.34596221  3956.35325362  3956.35928268  3956.36629531  3956.3736017\n",
      "  3956.38090899  3956.38821933  3956.39553542  3956.40310449  3956.41081812\n",
      "  3956.41777824  3956.42476263  3956.43206032  3956.43935871  3956.44665777\n",
      "  3956.45397869  3956.46130268  3956.46859567  3956.47589289  3956.48319735\n",
      "  3956.49580288  3956.51116669  3956.51206802  3956.5136714   3956.52021198\n",
      "  3956.52712014  3956.53436212  3956.54176245  3956.54921755  3956.55683457\n",
      "  3956.5642042   3956.57118751  3956.57829307  3956.58545639  3956.59275308\n",
      "  3956.60005357  3956.60735223  3956.61466014  3956.62197575  3956.62958022\n",
      "  3956.63716994  3956.64424509  3956.65135498  3956.65851448  3956.66580897\n",
      "  3956.67316117  3956.68045132  3956.68782881  3956.69543476  3956.70271845\n",
      "  3956.70975588  3956.72319862  3956.73081304  3956.73828502  3956.74538992\n",
      "  3956.75270074  3956.76017394  3956.76723612  3956.77423822  3956.78138179\n",
      "  3956.78857419  3956.79584049  3956.80313447  3956.81044164  3956.81765948\n",
      "  3956.82498897  3956.83269177  3956.83994097  3956.84676494  3956.85394496\n",
      "  3956.86121888  3956.8685231   3956.8757999   3956.88302685  3956.8902838\n",
      "  3956.89755804  3956.90526169  3956.91282056  3956.91960774  3956.92675853\n",
      "  3956.93431424  3956.94179263  3956.94925155  3956.95688866  3956.96414647\n",
      "  3956.97056718  3956.97752803  3956.98486205  3956.99206392  3956.99925709\n",
      "  3957.00651167  3957.01377766  3957.02105877  3957.02848329  3957.03596648\n",
      "  3957.0430163   3957.05012571  3957.05741     3957.06474043  3957.07210885\n",
      "  3957.08040066  3957.08864076  3957.09485918  3957.1013684   3957.10833806\n",
      "  3957.11551191  3957.12278785  3957.13045374  3957.13812951  3957.14576322\n",
      "  3957.15283904  3957.15936883  3957.16644826  3957.17368063  3957.18094725\n",
      "  3957.18821393  3957.19548072  3957.20273962  3957.20999377  3957.21765557\n",
      "  3957.22520013  3957.23202527  3957.23909403  3957.24644607  3957.25367062\n",
      "  3957.26085288  3957.26812883  3957.27586575  3957.28467277  3957.29168501\n",
      "  3957.29740102  3957.3044678   3957.31174742  3957.31898598  3957.32624003\n",
      "  3957.33351552  3957.34121168  3957.34908906  3957.35581382  3957.36264236\n",
      "  3957.36984211  3957.37707766  3957.38434401  3957.39161616  3957.39888831\n",
      "  3957.40614831  3957.41342104  3957.42071487  3957.42864755  3957.43691537\n",
      "  3957.4432783   3957.44973426  3957.45700925  3957.46427412  3957.47152865\n",
      "  3957.47883909  3957.48615942  3957.49336675  3957.50071335  3957.50833849\n",
      "  3957.51552662  3957.52243874  3957.52966378  3957.53692669  3957.54419036\n",
      "  3957.55169406  3957.55948922  3957.56670131  3957.57369906  3957.58070031\n",
      "  3957.58778198  3957.59506028  3957.60247152  3957.6099831   3957.61707516\n",
      "  3957.62412744  3957.63141299  3957.63867598  3957.64590632  3957.65316863\n",
      "  3957.66044543  3957.66771655  3957.67499274  3957.68228496  3957.689535\n",
      "  3957.69674717  3957.70401545  3957.71129705  3957.71857697  3957.72584982\n",
      "  3957.7331104   3957.74041687  3957.7477486   3957.75495732  3957.76217782\n",
      "  3957.76948317  3957.77674719  3957.78396713  3957.79122394  3957.79850989\n",
      "  3957.80618997  3957.81360422  3957.82046019  3957.82756212  3957.83482654\n",
      "  3957.84208444  3957.84934414  3957.85661774  3957.86395221  3957.87136388\n",
      "  3957.87857279  3957.89816301  3957.90541893  3957.91268123  3957.91995995\n",
      "  3957.92728603  3957.93464944  3957.94193254  3957.94922348  3957.95668796\n",
      "  3957.96395127  3957.9709101   3957.97808897  3957.98537262  3957.99263802\n",
      "  3957.9999901   3958.00762461  3958.01488039  3958.02178112  3958.02931928\n",
      "  3958.03695442  3958.04377024  3958.05075094  3958.05803139  3958.0660594\n",
      "  3958.07451821  3958.08228044  3958.08957934  3958.09522087  3958.101817\n",
      "  3958.1094762   3958.11654214  3958.1234253   3958.13067318  3958.13793022\n",
      "  3958.14520751  3958.15246493  3958.15970863  3958.16697651  3958.17431655\n",
      "  3958.18204364  3958.18948753  3958.19655616  3958.20357703  3958.21057837\n",
      "  3958.21784319  3958.22521993  3958.23289327  3958.24053831  3958.24816005\n",
      "  3958.25497986  3958.26168353  3958.26880633  3958.27599062  3958.28327228\n",
      "  3958.29053681  3958.29779277  3958.30536204  3958.31281443  3958.31980509\n",
      "  3958.32711646  3958.33474171  3958.34175746  3958.34863356  3958.35590594\n",
      "  3958.36317621  3958.37044242  3958.37774648  3958.38507338  3958.39258524\n",
      "  3958.40003977  3958.40714943  3958.41424662  3958.42132929  3958.42855544\n",
      "  3958.435832    3958.44313179  3958.45040976  3958.45763707  3958.46516449\n",
      "  3958.47290864  3958.48022034  3958.48740297  3958.49422374  3958.50134956\n",
      "  3958.50889774  3958.5160484   3958.52302782  3958.53027632  3958.53765725\n",
      "  3958.5454019   3958.55263228  3958.55942039  3958.56659117  3958.57384894\n",
      "  3958.58111967  3958.5884036   3958.59570938  3958.60299855  3958.61027902\n",
      "  3958.61760668  3958.624897    3958.63203917  3958.63941544  3958.64703088\n",
      "  3958.65420867  3958.66126423  3958.66841503  3958.67559967  3958.68285199\n",
      "  3958.69011474  3958.6973841   3958.70471039  3958.71201987  3958.71921546\n",
      "  3958.72644105  3958.73370306  3958.7409686   3958.74823537  3958.75549687\n",
      "  3958.76280227  3958.770215    3958.77746206  3958.78458408  3958.79182656\n",
      "  3958.79909118  3958.80636108  3958.81376086  3958.82134862  3958.82848715\n",
      "  3958.83542213  3958.84268724  3958.84995952  3958.85722016  3958.86450087\n",
      "  3958.87179962  3958.87906045  3958.88631233  3958.89356568  3958.90082372\n",
      "  3958.90808988  3958.9153562   3958.92262261  3958.9298823   3958.93715651\n",
      "  3958.94448942  3958.95175076  3958.95893575  3958.96659421  3958.97435328\n",
      "  3958.98108655  3958.98803052  3958.99541693  3959.00267509  3959.00984852\n",
      "  3959.01749888  3959.0250637   3959.03185104  3959.03906447  3959.04681833\n",
      "  3959.05387179  3959.05387279]\n",
      "[        nan  6.28318531  0.07853982  0.15707963  0.23561945  0.31415927\n",
      "  0.39269908  0.4712389   0.54977871  0.62831853  0.70685835  0.78539816\n",
      "  0.86393798  0.9424778   1.02101761  1.09955743  1.17809725  1.25663706\n",
      "  1.33517688  1.41371669  1.49225651  1.57079633  1.64933614  1.72787596\n",
      "  1.80641578  1.88495559  1.96349541  2.04203522  2.12057504  2.19911486\n",
      "  2.27765467  2.35619449  2.43473431  2.51327412  2.59181394  2.67035376\n",
      "  2.74889357  2.82743339  2.9059732   2.98451302  3.06305284  3.14159265\n",
      "  3.22013247  3.29867229  3.3772121   3.45575192  3.53429174  3.61283155\n",
      "  3.69137137  3.76991118  3.848451    3.92699082  4.00553063  4.08407045\n",
      "  4.16261027  4.24115008  4.3196899   4.39822972  4.47676953  4.55530935\n",
      "  4.63384916  4.71238898  4.7909288   4.86946861  4.94800843  5.02654825\n",
      "  5.10508806  5.18362788  5.26216769  5.34070751  5.41924733  5.49778714\n",
      "  5.57632696  5.65486678  5.73340659  5.81194641  5.89048623  5.96902604\n",
      "  6.04756586  6.12610567  6.20464549  0.          0.07853982  0.15707963\n",
      "  0.23561945  0.31415927  0.39269908  0.4712389   0.54977871  0.62831853\n",
      "  0.70685835  0.78539816  0.86393798  0.9424778   1.02101761  1.09955743\n",
      "  1.17809725  1.25663706  1.33517688  1.41371669  1.49225651  1.57079633\n",
      "  1.64933614  1.72787596  1.80641578  1.88495559  1.96349541  2.04203522\n",
      "  2.12057504  2.19911486  2.27765467  2.35619449  2.43473431  2.51327412\n",
      "  2.59181394  2.67035376  2.74889357  2.82743339  2.9059732   2.98451302\n",
      "  3.06305284  3.14159265  3.22013247  3.29867229  3.3772121   3.45575192\n",
      "  3.53429174  3.61283155  3.69137137  3.76991118  3.848451    3.92699082\n",
      "  4.00553063  4.08407045  4.16261027  4.24115008  4.3196899   4.39822972\n",
      "  4.47676953  4.55530935  4.63384916  4.71238898  4.7909288   4.86946861\n",
      "  4.94800843  5.02654825  5.10508806  5.18362788  5.26216769  5.34070751\n",
      "  5.41924733  5.49778714  5.57632696  5.65486678  5.73340659  5.81194641\n",
      "  5.89048623  5.96902604  6.04756586  6.12610567  6.20464549  0.22078241\n",
      "  0.29932222  0.37786204  0.45640186  0.53494167  0.61348149  0.69202131\n",
      "  0.77056112  0.84910094  0.92764076  1.00618057  1.08472039  1.1632602\n",
      "  1.24180002  1.32033984  1.39887965  1.47741947  1.55595929  1.6344991\n",
      "  1.71303892  1.79157874  1.87011855  1.94865837  2.02719818  2.105738\n",
      "  2.18427782  2.26281763  2.34135745  2.41989727  2.49843708  2.5769769\n",
      "  2.65551672  2.73405653  2.81259635  2.89113616  2.96967598  3.0482158\n",
      "  3.12675561  3.20529543  3.28383525  3.36237506  3.44091488  3.51945469\n",
      "  3.59799451  3.67653433  3.75507414  3.83361396  3.91215378  3.99069359\n",
      "  4.06923341  4.14777323  4.22631304  4.30485286  4.38339267  4.46193249\n",
      "  4.54047231  4.61901212  4.69755194  4.77609176  4.85463157  4.93317139\n",
      "  5.01171121  5.09025102  5.16879084  5.24733065  5.32587047  5.40441029\n",
      "  5.4829501   5.56148992  5.64002974  5.71856955  5.79710937  5.87564918\n",
      "  5.954189    6.03272882  6.11126863  6.18980845  6.26834827  0.06370278\n",
      "  0.14224259  0.22078241  0.29932222  0.37786204  0.45640186  0.53494167\n",
      "  0.61348149  0.69202131  0.77056112  0.84910094  0.92764076  1.00618057\n",
      "  1.08472039  1.1632602   1.24180002  1.32033984  1.39887965  1.47741947\n",
      "  1.55595929  1.6344991   1.71303892  1.79157874  1.87011855  1.94865837\n",
      "  2.02719818  2.105738    2.18427782  2.26281763  2.34135745  2.41989727\n",
      "  2.49843708  2.5769769   2.65551672  2.73405653  2.81259635  2.89113616\n",
      "  2.96967598  3.0482158   3.12675561  3.20529543  3.28383525  3.36237506\n",
      "  3.44091488  3.51945469  3.59799451  3.67653433  3.75507414  3.83361396\n",
      "  3.91215378  3.99069359  4.06923341  4.14777323  4.22631304  4.30485286\n",
      "  4.38339267  4.46193249  4.54047231  4.61901212  4.69755194  4.77609176\n",
      "  4.85463157  4.93317139  5.01171121  5.09025102  5.16879084  5.24733065\n",
      "  5.32587047  5.40441029  5.4829501   5.56148992  5.64002974  5.71856955\n",
      "  5.79710937  5.87564918  5.954189    6.03272882  6.11126863  6.18980845\n",
      "  6.26834827  0.06370278  0.14224259  0.39123127  0.46977108  0.5483109\n",
      "  0.62685072  0.70539053  0.78393035  0.86247016  0.94100998  1.0195498\n",
      "  1.09808961  1.17662943  1.25516925  1.33370906  1.41224888  1.4907887\n",
      "  1.56932851  1.64786833  1.72640814  1.80494796  1.88348778  1.96202759\n",
      "  2.04056741  2.11910723  2.19764704  2.27618686  2.35472668  2.43326649\n",
      "  2.51180631  2.59034612  2.66888594  2.74742576  2.82596557  2.90450539\n",
      "  2.98304521  3.06158502  3.14012484  3.21866466  3.29720447  3.37574429\n",
      "  3.4542841   3.53282392  3.61136374  3.68990355  3.76844337  3.84698319\n",
      "  3.925523    4.00406282  4.08260263  4.16114245  4.23968227  4.31822208\n",
      "  4.3967619   4.47530172  4.55384153  4.63238135  4.71092117  4.78946098\n",
      "  4.8680008   4.94654061  5.02508043  5.10362025  5.18216006  5.26069988\n",
      "  5.3392397   5.41777951  5.49631933  5.57485915  5.65339896  5.73193878\n",
      "  5.81047859  5.88901841  5.96755823  6.04609804  6.12463786  6.20317768\n",
      "  6.28171749  0.077072    0.15561182  0.23415163  0.31269145  0.39123127\n",
      "  0.46977108  0.5483109   0.62685072  0.70539053  0.78393035  0.86247016\n",
      "  0.94100998  1.0195498   1.09808961  1.17662943  1.25516925  1.33370906\n",
      "  1.41224888  1.4907887   1.56932851  1.64786833  1.72640814  1.80494796\n",
      "  1.88348778  1.96202759  2.04056741  2.11910723  2.19764704  2.27618686\n",
      "  2.35472668  2.43326649  2.51180631  2.59034612  2.66888594  2.74742576\n",
      "  2.82596557  2.90450539  2.98304521  3.06158502  3.14012484  3.21866466\n",
      "  3.29720447  3.37574429  3.4542841   3.53282392  3.61136374  3.68990355\n",
      "  3.76844337  3.84698319  3.925523    4.00406282  4.08260263  4.16114245\n",
      "  4.23968227  4.31822208  4.3967619   4.47530172  4.55384153  4.63238135\n",
      "  4.71092117  4.78946098  4.8680008   4.94654061  5.02508043  5.10362025\n",
      "  5.18216006  5.26069988  5.3392397   5.41777951  5.49631933  5.57485915\n",
      "  5.65339896  5.73193878  5.81047859  5.88901841  5.96755823  6.04609804\n",
      "  6.12463786  6.20317768  6.28171749  0.077072    0.15561182  0.23415163\n",
      "  0.31269145  0.33855988  0.41709969  0.49563951  0.57417932  0.65271914\n",
      "  0.73125896  0.80979877  0.88833859  0.96687841  1.04541822  1.12395804\n",
      "  1.20249786  1.28103767  1.35957749  1.4381173   1.51665712  1.59519694\n",
      "  1.67373675  1.75227657  1.83081639  1.9093562   1.98789602  2.06643583\n",
      "  2.14497565  2.22351547  2.30205528  2.3805951   2.45913492  2.53767473\n",
      "  2.61621455  2.69475437  2.77329418  2.851834    2.93037381  3.00891363\n",
      "  3.08745345  3.16599326  3.24453308  3.3230729   3.40161271  3.48015253\n",
      "  3.55869235  3.63723216  3.71577198  3.79431179  3.87285161  3.95139143\n",
      "  4.02993124  4.10847106  4.18701088  4.26555069  4.34409051  4.42263033\n",
      "  4.50117014  4.57970996  4.65824977  4.73678959  4.81532941  4.89386922\n",
      "  4.97240904  5.05094886  5.12948867  5.20802849  5.2865683   5.36510812\n",
      "  5.44364794  5.52218775  5.60072757  5.67926739  5.7578072   5.83634702\n",
      "  5.91488684  5.99342665  6.07196647  6.15050628  6.2290461   0.02440061\n",
      "  0.10294043  0.18148024  0.26002006  0.33855988  0.41709969  0.49563951\n",
      "  0.57417932  0.65271914  0.73125896  0.80979877  0.88833859  0.96687841\n",
      "  1.04541822  1.12395804  1.20249786  1.28103767  1.35957749  1.4381173\n",
      "  1.51665712  1.59519694  1.67373675  1.75227657  1.83081639  1.9093562\n",
      "  1.98789602  2.06643583  2.14497565  2.22351547  2.30205528  2.3805951\n",
      "  2.45913492  2.53767473  2.61621455  2.69475437  2.77329418  2.851834\n",
      "  2.93037381  3.00891363  3.08745345  3.16599326  3.24453308  3.3230729\n",
      "  3.40161271  3.48015253  3.55869235  3.63723216  3.71577198  3.79431179\n",
      "  3.87285161  3.95139143  4.02993124  4.10847106  4.18701088  4.26555069\n",
      "  4.34409051  4.42263033  4.50117014  4.57970996  4.65824977  4.73678959\n",
      "  4.81532941  4.89386922  4.97240904  5.05094886  5.12948867  5.20802849\n",
      "  5.2865683   5.36510812  5.44364794  5.52218775  5.60072757  5.67926739\n",
      "  5.7578072   5.83634702  5.91488684  5.99342665  6.07196647  6.15050628\n",
      "  6.2290461   0.02440061  0.10294043  0.18148024  0.26002006  0.46949371\n",
      "  0.54803353  0.62657335  0.70511316  0.78365298  0.8621928   0.94073261\n",
      "  1.01927243  1.09781224  1.17635206  1.25489188  1.33343169  1.41197151\n",
      "  1.49051133  1.56905114  1.64759096  1.72613078  1.80467059  1.88321041\n",
      "  1.96175022  2.04029004  2.11882986  2.19736967  2.27590949  2.35444931\n",
      "  2.43298912  2.51152894  2.59006876  2.66860857  2.74714839  2.8256882\n",
      "  2.90422802  2.98276784  3.06130765  3.13984747  3.21838729  3.2969271\n",
      "  3.37546692  3.45400674  3.53254655  3.61108637  3.68962618  3.768166\n",
      "  3.84670582  3.92524563  4.00378545  4.08232527  4.16086508  4.2394049\n",
      "  4.31794471  4.39648453  4.47502435  4.55356416  4.63210398  4.7106438\n",
      "  4.78918361  4.86772343  4.94626325  5.02480306  5.10334288  5.18188269\n",
      "  5.26042251  5.33896233  5.41750214  5.49604196  5.57458178  5.65312159\n",
      "  5.73166141  5.81020123  5.88874104  5.96728086  6.04582067  6.12436049\n",
      "  6.20290031  6.28144012  0.07679463  0.15533445  0.23387427  0.31241408\n",
      "  0.3909539   0.46949371  0.54803353  0.62657335  0.70511316  0.78365298\n",
      "  0.8621928   0.94073261  1.01927243  1.09781224  1.17635206  1.25489188\n",
      "  1.33343169  1.41197151  1.49051133  1.56905114  1.64759096  1.72613078\n",
      "  1.80467059  1.88321041  1.96175022  2.04029004  2.11882986  2.19736967\n",
      "  2.27590949  2.35444931  2.43298912  2.51152894  2.59006876  2.66860857\n",
      "  2.74714839  2.8256882   2.90422802  2.98276784  3.06130765  3.13984747\n",
      "  3.21838729  3.2969271   3.37546692  3.45400674  3.53254655  3.61108637\n",
      "  3.68962618  3.768166    3.84670582  3.92524563  4.00378545  4.08232527\n",
      "  4.16086508  4.2394049   4.31794471  4.39648453  4.47502435  4.55356416\n",
      "  4.63210398  4.7106438   4.78918361  4.86772343  4.94626325  5.02480306\n",
      "  5.10334288  5.18188269  5.26042251  5.33896233  5.41750214  5.49604196\n",
      "  5.57458178  5.65312159  5.73166141  5.81020123  5.88874104  5.96728086\n",
      "  6.04582067  6.12436049  6.20290031  6.28144012  0.07679463  0.15533445\n",
      "  0.23387427  0.31241408  0.3909539   0.61011251  0.68865232  0.76719214\n",
      "  0.84573195  0.92427177  1.00281159  1.0813514   1.15989122  1.23843104\n",
      "  1.31697085  1.39551067  1.47405048  1.5525903   1.63113012  1.70966993\n",
      "  1.78820975  1.86674957  1.94528938  2.0238292   2.10236902  2.18090883\n",
      "  2.25944865  2.33798846  2.41652828  2.4950681   2.57360791  2.65214773\n",
      "  2.73068755  2.80922736  2.88776718  2.966307    3.04484681  3.12338663\n",
      "  3.20192644  3.28046626  3.35900608  3.43754589  3.51608571  3.59462553\n",
      "  3.67316534  3.75170516  3.83024498  3.90878479  3.98732461  4.06586442\n",
      "  4.14440424  4.22294406  4.30148387  4.38002369  4.45856351  4.53710332\n",
      "  4.61564314  4.69418295  4.77272277  4.85126259  4.9298024   5.00834222\n",
      "  5.08688204  5.16542185  5.24396167  5.32250149  5.4010413   5.47958112\n",
      "  5.55812093  5.63666075  5.71520057  5.79374038  5.8722802   5.95082002\n",
      "  6.02935983  6.10789965  6.18643947  6.26497928  0.06033379  0.13887361\n",
      "  0.21741342  0.29595324  0.37449306  0.45303287  0.53157269  0.61011251\n",
      "  0.68865232  0.76719214  0.84573195  0.92427177  1.00281159  1.0813514\n",
      "  1.15989122  1.23843104  1.31697085  1.39551067  1.47405048  1.5525903\n",
      "  1.63113012  1.70966993  1.78820975  1.86674957  1.94528938  2.0238292\n",
      "  2.10236902  2.18090883  2.25944865  2.33798846  2.41652828  2.4950681\n",
      "  2.57360791  2.65214773  2.73068755  2.80922736  2.88776718  2.966307\n",
      "  3.04484681  3.12338663  3.20192644  3.28046626  3.35900608  3.43754589\n",
      "  3.51608571  3.59462553  3.67316534  3.75170516  3.83024498  3.90878479\n",
      "  3.98732461  4.06586442  4.14440424  4.22294406  4.30148387  4.38002369\n",
      "  4.45856351  4.53710332  4.61564314  4.69418295  4.77272277  4.85126259\n",
      "  4.9298024   5.00834222  5.08688204  5.16542185  5.24396167  5.32250149\n",
      "  5.4010413   5.47958112  5.55812093  5.63666075  5.71520057  5.79374038\n",
      "  5.8722802   5.95082002  6.02935983  6.10789965  6.18643947  6.26497928\n",
      "  0.06033379  0.13887361  0.21741342  0.29595324  0.37449306  0.45303287\n",
      "  0.53157269         nan]\n"
     ]
    }
   ],
   "source": [
    "print(kt3)\n",
    "print(kp3)"
   ]
  },
  {
   "cell_type": "code",
   "execution_count": null,
   "metadata": {
    "collapsed": true
   },
   "outputs": [],
   "source": [
    "AnnotateFluorChannel('/Users/jonny/Movies/Example_compr_sens_datasets/New datasets w jt phase annotation/Darkfield/df_fish3_maskA_widefield_800to1399',\\\n",
    "                     kt1, kp1, fluorTimestampKey='synthetic_timestamp'):"
   ]
  }
 ],
 "metadata": {
  "kernelspec": {
   "display_name": "Python 3",
   "language": "python",
   "name": "python3"
  },
  "language_info": {
   "codemirror_mode": {
    "name": "ipython",
    "version": 3
   },
   "file_extension": ".py",
   "mimetype": "text/x-python",
   "name": "python",
   "nbconvert_exporter": "python",
   "pygments_lexer": "ipython3",
   "version": "3.5.1"
  }
 },
 "nbformat": 4,
 "nbformat_minor": 0
}
