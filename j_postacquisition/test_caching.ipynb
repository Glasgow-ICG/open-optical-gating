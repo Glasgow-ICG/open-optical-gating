{
 "cells": [
  {
   "cell_type": "code",
   "execution_count": 1,
   "metadata": {
    "collapsed": false
   },
   "outputs": [],
   "source": [
    "%matplotlib inline\n",
    "from shifts import *\n",
    "from periods import *\n",
    "from image_loading import *\n",
    "from drift_correction import *\n",
    "from shifts_global_solution import *\n",
    "from tqdm import *\n",
    "import importlib\n",
    "import matplotlib.image as img\n",
    "import plist_wrapper as jPlist"
   ]
  },
  {
   "cell_type": "code",
   "execution_count": 3,
   "metadata": {
    "collapsed": false
   },
   "outputs": [
    {
     "name": "stdout",
     "output_type": "stream",
     "text": [
      "/Users/jonny/Movies/Reference_brightfield_video_sequences/11 jul 2013 maybe casper/ref-frames-2017-04-03-18.36.04/ref-frames-2017-04-03-18.36.04_55ed890c54e9288c.npy\n",
      "estimated average(ish) period 23.5 from first 28 images\n"
     ]
    }
   ],
   "source": [
    "(images, estimatedPeriod) = LoadAllImages(\"/Users/jonny/Movies/Reference_brightfield_video_sequences/11 jul 2013 maybe casper/ref-frames-2017-04-03-18.36.04\")\n",
    "\n",
    "#\"/Volumes/Jonny Data Work/spim_vids_2/2017-02-09 18.35.13 vid overnight/Stack 0001/Brightfield - Prosilica\""
   ]
  },
  {
   "cell_type": "code",
   "execution_count": 5,
   "metadata": {
    "collapsed": false
   },
   "outputs": [
    {
     "name": "stdout",
     "output_type": "stream",
     "text": [
      "/Users/jonny/Movies/Reference_brightfield_video_sequences/11 jul 2013 maybe casper/ref-frames-2017-04-03-18.36.04/ref-frames-2017-04-03-18.36.04_55ed890c54d8a3ef.npy\n"
     ]
    }
   ],
   "source": [
    "(images, estimatedPeriod) = LoadAllImages(\"/Users/jonny/Movies/Reference_brightfield_video_sequences/11 jul 2013 maybe casper/ref-frames-2017-04-03-18.36.04\", loadImageData=False)"
   ]
  },
  {
   "cell_type": "code",
   "execution_count": 3,
   "metadata": {
    "collapsed": false
   },
   "outputs": [
    {
     "name": "stderr",
     "output_type": "stream",
     "text": [
      "loading images: 100%|██████████| 28/28 [00:00<00:00, 76.19it/s]"
     ]
    },
    {
     "name": "stdout",
     "output_type": "stream",
     "text": [
      "missing npy file: /Users/jonny/Movies/Reference_brightfield_video_sequences/11 jul 2013 maybe casper/ref-frames-2017-04-03-18.36.04/ref-frames-2017-04-03-18.36.04_423649196672319e.npy. Loading files.\n",
      "estimated average(ish) period 23.5 from first 28 images\n"
     ]
    },
    {
     "name": "stderr",
     "output_type": "stream",
     "text": [
      "\n"
     ]
    }
   ],
   "source": [
    "(images, estimatedPeriod) = LoadAllImages(\"/Users/jonny/Movies/Reference_brightfield_video_sequences/11 jul 2013 maybe casper/ref-frames-2017-04-03-18.36.04\")\n"
   ]
  },
  {
   "cell_type": "code",
   "execution_count": 2,
   "metadata": {
    "collapsed": false
   },
   "outputs": [
    {
     "name": "stderr",
     "output_type": "stream",
     "text": [
      "loading images: 100%|██████████| 47/47 [00:00<00:00, 85.10it/s]"
     ]
    },
    {
     "name": "stdout",
     "output_type": "stream",
     "text": [
      "missing npy file: /Volumes/Disk Image/ref-frames-2017-02-09-18.42.05/ref-frames-2017-02-09-18.42.05_-4dfbc09d59ff3310.npy. Loading files.\n",
      "Harmless warning: unable to save cache. Read-only volume?\n",
      "estimated average(ish) period 47.0 from first 47 images\n"
     ]
    },
    {
     "name": "stderr",
     "output_type": "stream",
     "text": [
      "\n"
     ]
    }
   ],
   "source": [
    "# Test on read-only volume\n",
    "(images, estimatedPeriod) = LoadAllImages(\"/Volumes/Disk Image/ref-frames-2017-02-09-18.42.05\")"
   ]
  },
  {
   "cell_type": "code",
   "execution_count": null,
   "metadata": {
    "collapsed": false
   },
   "outputs": [],
   "source": []
  },
  {
   "cell_type": "code",
   "execution_count": null,
   "metadata": {
    "collapsed": false
   },
   "outputs": [],
   "source": []
  },
  {
   "cell_type": "code",
   "execution_count": null,
   "metadata": {
    "collapsed": false
   },
   "outputs": [],
   "source": []
  },
  {
   "cell_type": "code",
   "execution_count": null,
   "metadata": {
    "collapsed": false
   },
   "outputs": [],
   "source": []
  },
  {
   "cell_type": "code",
   "execution_count": null,
   "metadata": {
    "collapsed": false
   },
   "outputs": [],
   "source": []
  },
  {
   "cell_type": "code",
   "execution_count": null,
   "metadata": {
    "collapsed": false
   },
   "outputs": [],
   "source": []
  },
  {
   "cell_type": "code",
   "execution_count": null,
   "metadata": {
    "collapsed": true
   },
   "outputs": [],
   "source": []
  }
 ],
 "metadata": {
  "kernelspec": {
   "display_name": "Python 3",
   "language": "python",
   "name": "python3"
  },
  "language_info": {
   "codemirror_mode": {
    "name": "ipython",
    "version": 3
   },
   "file_extension": ".py",
   "mimetype": "text/x-python",
   "name": "python",
   "nbconvert_exporter": "python",
   "pygments_lexer": "ipython3",
   "version": "3.5.1"
  }
 },
 "nbformat": 4,
 "nbformat_minor": 0
}
